{
 "cells": [
  {
   "attachments": {},
   "cell_type": "markdown",
   "metadata": {},
   "source": [
    "# Proyecto Forbes 2000 - 2021 \n",
    "## Manipulación y transformación de datos con Pandas y Numpy\n",
    "01.07.23\n",
    "\n",
    "**Pandas**: paquete enfocado en la manipulación y análisis de datos. Está construido sobre Numpy, requiero poco código para manipular datos. Soporta múltiples formatos de atchivos. \n",
    "\n",
    "Pandas trabaja don cos objetos que derivan de los array de Numpy:\n",
    "1. Pandas Series: array unidimensional de np o vector.\n",
    "2. DataFrame: estructura principal de Pandas (Matriz)."
   ]
  },
  {
   "cell_type": "code",
   "execution_count": 68,
   "metadata": {},
   "outputs": [],
   "source": [
    "# Importemos librerías de trabajo\n",
    "# pip list : me muestra qué paquetes tengo instalados\n",
    "# pip install : instalo los paquete que desee\n",
    "\n",
    "import os #Para directorio de trabajo\n",
    "import numpy as np #Métodos numéricos y arrays\n",
    "import pandas as pd #Manipulación de DF"
   ]
  },
  {
   "cell_type": "markdown",
   "metadata": {},
   "source": [
    "## Proyecto Forbes\n",
    "\n",
    "### Fortune Global 2000 Companies (2021)\n",
    "Fortune Global 2000 Companies with Sales, Profits, Assets, Market Value\n",
    "\n",
    "List of top 2000 companies with their total sales, total profits, total assets, and total market value\n",
    "\n",
    "Since 2003, Forbes’ Global 2000 list has measured the world’s largest public companies in terms of four equally weighted metrics: assets, market value, sales and profits. Last year’s edition offered a glimpse into the early economic implications of the Covid-19 pandemic. Now, we see the results over 12 months of market turmoil and unfathomable human loss.\n",
    "\n",
    "### Features\n",
    "\n",
    "- ranking   : Ranking\n",
    "- Name    : Name de la compania\n",
    "- Country      : Country de procedencia de la compania\n",
    "- Sales    : Sales\n",
    "- Profits : Profits\n",
    "- Assets   : Assets\n",
    "- Market_value     : Market_value de la compania en el mercado\n",
    "\n",
    "\n",
    "*Nota: cifras en millones de dolares\n",
    "\n",
    "\n",
    "Source: https://www.forbes.com/lists/global2000/#7e9e39675ac0"
   ]
  },
  {
   "cell_type": "code",
   "execution_count": 69,
   "metadata": {},
   "outputs": [
    {
     "data": {
      "text/plain": [
       "'C:\\\\Users\\\\agant\\\\Desktop\\\\John\\\\Ingenieria de sofware\\\\8 - Semestre\\\\Inteligencia Artificial'"
      ]
     },
     "execution_count": 69,
     "metadata": {},
     "output_type": "execute_result"
    }
   ],
   "source": [
    "# Establezcamos directorio de trabajo\n",
    "os.chdir('C:/Users/agant/Desktop/John/Ingenieria de sofware/8 - Semestre/Inteligencia Artificial')\n",
    "os.getcwd()"
   ]
  },
  {
   "cell_type": "code",
   "execution_count": 70,
   "metadata": {},
   "outputs": [
    {
     "data": {
      "text/plain": [
       "['2. Numpy.ipynb',\n",
       " '3. PandasForbes.ipynb',\n",
       " 'Actividad 1 - Conceptos y aplicaciones de Inteligencia Artificial.docx',\n",
       " 'Actividad 1 - Conceptos y aplicaciones de Inteligencia Artificial.pdf',\n",
       " 'Actividad 1 - Conceptos y aplicaciones de Inteligencia Artificial.zip',\n",
       " 'forbes2023.csv']"
      ]
     },
     "execution_count": 70,
     "metadata": {},
     "output_type": "execute_result"
    }
   ],
   "source": [
    "os.getcwd() #Muestreme el directorio de trabajo\n",
    "os.listdir() #Archivos en el ditrectorio de trabajo"
   ]
  },
  {
   "cell_type": "code",
   "execution_count": 71,
   "metadata": {},
   "outputs": [],
   "source": [
    "# Importar base de datos\n",
    "\n",
    "forbes23 = pd.read_csv('forbes2023.csv',encoding= 'latin-1',sep=';')"
   ]
  },
  {
   "cell_type": "code",
   "execution_count": 72,
   "metadata": {},
   "outputs": [
    {
     "data": {
      "text/html": [
       "<div>\n",
       "<style scoped>\n",
       "    .dataframe tbody tr th:only-of-type {\n",
       "        vertical-align: middle;\n",
       "    }\n",
       "\n",
       "    .dataframe tbody tr th {\n",
       "        vertical-align: top;\n",
       "    }\n",
       "\n",
       "    .dataframe thead th {\n",
       "        text-align: right;\n",
       "    }\n",
       "</style>\n",
       "<table border=\"1\" class=\"dataframe\">\n",
       "  <thead>\n",
       "    <tr style=\"text-align: right;\">\n",
       "      <th></th>\n",
       "      <th>Rank</th>\n",
       "      <th>Company Name</th>\n",
       "      <th>Country</th>\n",
       "      <th>Sales\\n($millions)</th>\n",
       "      <th>Profits\\n($millions)</th>\n",
       "      <th>Assets\\n($millions)</th>\n",
       "      <th>Market Value \\nAs of 05/05/23 ($m)</th>\n",
       "    </tr>\n",
       "  </thead>\n",
       "  <tbody>\n",
       "    <tr>\n",
       "      <th>0</th>\n",
       "      <td>1</td>\n",
       "      <td>JPMorgan Chase</td>\n",
       "      <td>United States</td>\n",
       "      <td>179930</td>\n",
       "      <td>41800</td>\n",
       "      <td>3744300</td>\n",
       "      <td>399590</td>\n",
       "    </tr>\n",
       "    <tr>\n",
       "      <th>1</th>\n",
       "      <td>2</td>\n",
       "      <td>Saudi Arabian Oil Company (Saudi Aramco)</td>\n",
       "      <td>Saudi Arabia</td>\n",
       "      <td>589470</td>\n",
       "      <td>156360</td>\n",
       "      <td>660990</td>\n",
       "      <td>2055220</td>\n",
       "    </tr>\n",
       "    <tr>\n",
       "      <th>2</th>\n",
       "      <td>3</td>\n",
       "      <td>ICBC</td>\n",
       "      <td>China</td>\n",
       "      <td>216770</td>\n",
       "      <td>52470</td>\n",
       "      <td>6116820</td>\n",
       "      <td>203010</td>\n",
       "    </tr>\n",
       "    <tr>\n",
       "      <th>3</th>\n",
       "      <td>4</td>\n",
       "      <td>China Construction Bank</td>\n",
       "      <td>China</td>\n",
       "      <td>203080</td>\n",
       "      <td>48250</td>\n",
       "      <td>4977480</td>\n",
       "      <td>172990</td>\n",
       "    </tr>\n",
       "    <tr>\n",
       "      <th>4</th>\n",
       "      <td>5</td>\n",
       "      <td>Agricultural Bank of China</td>\n",
       "      <td>China</td>\n",
       "      <td>186140</td>\n",
       "      <td>37920</td>\n",
       "      <td>5356860</td>\n",
       "      <td>141820</td>\n",
       "    </tr>\n",
       "    <tr>\n",
       "      <th>...</th>\n",
       "      <td>...</td>\n",
       "      <td>...</td>\n",
       "      <td>...</td>\n",
       "      <td>...</td>\n",
       "      <td>...</td>\n",
       "      <td>...</td>\n",
       "      <td>...</td>\n",
       "    </tr>\n",
       "    <tr>\n",
       "      <th>1995</th>\n",
       "      <td>1996</td>\n",
       "      <td>Alfa Laval</td>\n",
       "      <td>Sweden</td>\n",
       "      <td>5350</td>\n",
       "      <td>489,5</td>\n",
       "      <td>7820</td>\n",
       "      <td>15600</td>\n",
       "    </tr>\n",
       "    <tr>\n",
       "      <th>1996</th>\n",
       "      <td>1996</td>\n",
       "      <td>Gap</td>\n",
       "      <td>United States</td>\n",
       "      <td>15620</td>\n",
       "      <td>-202</td>\n",
       "      <td>11390</td>\n",
       "      <td>3170</td>\n",
       "    </tr>\n",
       "    <tr>\n",
       "      <th>1997</th>\n",
       "      <td>1996</td>\n",
       "      <td>Yes Bank</td>\n",
       "      <td>India</td>\n",
       "      <td>3340</td>\n",
       "      <td>91,6</td>\n",
       "      <td>43220</td>\n",
       "      <td>5600</td>\n",
       "    </tr>\n",
       "    <tr>\n",
       "      <th>1998</th>\n",
       "      <td>1999</td>\n",
       "      <td>BEKB-BCBE</td>\n",
       "      <td>Switzerland</td>\n",
       "      <td>556</td>\n",
       "      <td>167,1</td>\n",
       "      <td>42970</td>\n",
       "      <td>2490</td>\n",
       "    </tr>\n",
       "    <tr>\n",
       "      <th>1999</th>\n",
       "      <td>1999</td>\n",
       "      <td>Ipsen</td>\n",
       "      <td>France</td>\n",
       "      <td>3180</td>\n",
       "      <td>681,7</td>\n",
       "      <td>5990</td>\n",
       "      <td>10210</td>\n",
       "    </tr>\n",
       "  </tbody>\n",
       "</table>\n",
       "<p>2000 rows × 7 columns</p>\n",
       "</div>"
      ],
      "text/plain": [
       "      Rank                              Company Name        Country  \\\n",
       "0        1                            JPMorgan Chase  United States   \n",
       "1        2  Saudi Arabian Oil Company (Saudi Aramco)   Saudi Arabia   \n",
       "2        3                                      ICBC          China   \n",
       "3        4                   China Construction Bank          China   \n",
       "4        5                Agricultural Bank of China          China   \n",
       "...    ...                                       ...            ...   \n",
       "1995  1996                                Alfa Laval         Sweden   \n",
       "1996  1996                                       Gap  United States   \n",
       "1997  1996                                  Yes Bank          India   \n",
       "1998  1999                                 BEKB-BCBE    Switzerland   \n",
       "1999  1999                                     Ipsen         France   \n",
       "\n",
       "      Sales\\n($millions) Profits\\n($millions)  Assets\\n($millions)  \\\n",
       "0                 179930                41800              3744300   \n",
       "1                 589470               156360               660990   \n",
       "2                 216770                52470              6116820   \n",
       "3                 203080                48250              4977480   \n",
       "4                 186140                37920              5356860   \n",
       "...                  ...                  ...                  ...   \n",
       "1995                5350                489,5                 7820   \n",
       "1996               15620                 -202                11390   \n",
       "1997                3340                 91,6                43220   \n",
       "1998                 556                167,1                42970   \n",
       "1999                3180                681,7                 5990   \n",
       "\n",
       "      Market Value \\nAs of 05/05/23 ($m)  \n",
       "0                                 399590  \n",
       "1                                2055220  \n",
       "2                                 203010  \n",
       "3                                 172990  \n",
       "4                                 141820  \n",
       "...                                  ...  \n",
       "1995                               15600  \n",
       "1996                                3170  \n",
       "1997                                5600  \n",
       "1998                                2490  \n",
       "1999                               10210  \n",
       "\n",
       "[2000 rows x 7 columns]"
      ]
     },
     "execution_count": 72,
     "metadata": {},
     "output_type": "execute_result"
    }
   ],
   "source": [
    "forbes23"
   ]
  },
  {
   "cell_type": "code",
   "execution_count": 73,
   "metadata": {},
   "outputs": [
    {
     "data": {
      "text/plain": [
       "(2000, 7)"
      ]
     },
     "execution_count": 73,
     "metadata": {},
     "output_type": "execute_result"
    }
   ],
   "source": [
    "# Para ver la FORMA del DF\n",
    "forbes23.shape # (Fila,columna)"
   ]
  },
  {
   "cell_type": "code",
   "execution_count": 74,
   "metadata": {},
   "outputs": [
    {
     "data": {
      "text/plain": [
       "Index(['Rank', 'Company Name', 'Country', 'Sales\\n($millions)',\n",
       "       'Profits\\n($millions)', 'Assets\\n($millions)',\n",
       "       'Market Value \\nAs of 05/05/23 ($m)'],\n",
       "      dtype='object')"
      ]
     },
     "execution_count": 74,
     "metadata": {},
     "output_type": "execute_result"
    }
   ],
   "source": [
    "### Data cleaning \n",
    "\n",
    "# Qué variables tengo\n",
    "\n",
    "forbes23.columns"
   ]
  },
  {
   "cell_type": "code",
   "execution_count": 75,
   "metadata": {},
   "outputs": [
    {
     "data": {
      "text/plain": [
       "Index(['Rango', 'Compañia', 'Pais', 'Ventas', 'Ganancias', 'Activos',\n",
       "       'Valor de Mercado'],\n",
       "      dtype='object')"
      ]
     },
     "execution_count": 75,
     "metadata": {},
     "output_type": "execute_result"
    }
   ],
   "source": [
    "#Cambiar nombre de variables\n",
    "forbes23.columns = ['Rango','Compañia','Pais','Ventas','Ganancias','Activos','Valor de Mercado']\n",
    "forbes23.columns"
   ]
  },
  {
   "cell_type": "code",
   "execution_count": 76,
   "metadata": {},
   "outputs": [
    {
     "data": {
      "text/html": [
       "<div>\n",
       "<style scoped>\n",
       "    .dataframe tbody tr th:only-of-type {\n",
       "        vertical-align: middle;\n",
       "    }\n",
       "\n",
       "    .dataframe tbody tr th {\n",
       "        vertical-align: top;\n",
       "    }\n",
       "\n",
       "    .dataframe thead th {\n",
       "        text-align: right;\n",
       "    }\n",
       "</style>\n",
       "<table border=\"1\" class=\"dataframe\">\n",
       "  <thead>\n",
       "    <tr style=\"text-align: right;\">\n",
       "      <th></th>\n",
       "      <th>Rango</th>\n",
       "      <th>Compañia</th>\n",
       "      <th>Pais</th>\n",
       "      <th>Ventas</th>\n",
       "      <th>Ganancias</th>\n",
       "      <th>Activos</th>\n",
       "      <th>Valor de Mercado</th>\n",
       "    </tr>\n",
       "  </thead>\n",
       "  <tbody>\n",
       "    <tr>\n",
       "      <th>0</th>\n",
       "      <td>1</td>\n",
       "      <td>JPMorgan Chase</td>\n",
       "      <td>United States</td>\n",
       "      <td>179930</td>\n",
       "      <td>41800</td>\n",
       "      <td>3744300</td>\n",
       "      <td>399590</td>\n",
       "    </tr>\n",
       "    <tr>\n",
       "      <th>1</th>\n",
       "      <td>2</td>\n",
       "      <td>Saudi Arabian Oil Company (Saudi Aramco)</td>\n",
       "      <td>Saudi Arabia</td>\n",
       "      <td>589470</td>\n",
       "      <td>156360</td>\n",
       "      <td>660990</td>\n",
       "      <td>2055220</td>\n",
       "    </tr>\n",
       "    <tr>\n",
       "      <th>2</th>\n",
       "      <td>3</td>\n",
       "      <td>ICBC</td>\n",
       "      <td>China</td>\n",
       "      <td>216770</td>\n",
       "      <td>52470</td>\n",
       "      <td>6116820</td>\n",
       "      <td>203010</td>\n",
       "    </tr>\n",
       "    <tr>\n",
       "      <th>3</th>\n",
       "      <td>4</td>\n",
       "      <td>China Construction Bank</td>\n",
       "      <td>China</td>\n",
       "      <td>203080</td>\n",
       "      <td>48250</td>\n",
       "      <td>4977480</td>\n",
       "      <td>172990</td>\n",
       "    </tr>\n",
       "    <tr>\n",
       "      <th>4</th>\n",
       "      <td>5</td>\n",
       "      <td>Agricultural Bank of China</td>\n",
       "      <td>China</td>\n",
       "      <td>186140</td>\n",
       "      <td>37920</td>\n",
       "      <td>5356860</td>\n",
       "      <td>141820</td>\n",
       "    </tr>\n",
       "    <tr>\n",
       "      <th>5</th>\n",
       "      <td>6</td>\n",
       "      <td>Bank of America</td>\n",
       "      <td>United States</td>\n",
       "      <td>133840</td>\n",
       "      <td>28620</td>\n",
       "      <td>3194660</td>\n",
       "      <td>220820</td>\n",
       "    </tr>\n",
       "    <tr>\n",
       "      <th>6</th>\n",
       "      <td>7</td>\n",
       "      <td>Alphabet</td>\n",
       "      <td>United States</td>\n",
       "      <td>282850</td>\n",
       "      <td>58590</td>\n",
       "      <td>369490</td>\n",
       "      <td>1340530</td>\n",
       "    </tr>\n",
       "    <tr>\n",
       "      <th>7</th>\n",
       "      <td>8</td>\n",
       "      <td>ExxonMobil</td>\n",
       "      <td>United States</td>\n",
       "      <td>393160</td>\n",
       "      <td>61690</td>\n",
       "      <td>369370</td>\n",
       "      <td>439390</td>\n",
       "    </tr>\n",
       "    <tr>\n",
       "      <th>8</th>\n",
       "      <td>9</td>\n",
       "      <td>Microsoft</td>\n",
       "      <td>United States</td>\n",
       "      <td>207590</td>\n",
       "      <td>69020</td>\n",
       "      <td>380090</td>\n",
       "      <td>2309840</td>\n",
       "    </tr>\n",
       "    <tr>\n",
       "      <th>9</th>\n",
       "      <td>10</td>\n",
       "      <td>Apple</td>\n",
       "      <td>United States</td>\n",
       "      <td>385100</td>\n",
       "      <td>94320</td>\n",
       "      <td>332160</td>\n",
       "      <td>2746210</td>\n",
       "    </tr>\n",
       "  </tbody>\n",
       "</table>\n",
       "</div>"
      ],
      "text/plain": [
       "   Rango                                  Compañia           Pais  Ventas  \\\n",
       "0      1                            JPMorgan Chase  United States  179930   \n",
       "1      2  Saudi Arabian Oil Company (Saudi Aramco)   Saudi Arabia  589470   \n",
       "2      3                                      ICBC          China  216770   \n",
       "3      4                   China Construction Bank          China  203080   \n",
       "4      5                Agricultural Bank of China          China  186140   \n",
       "5      6                           Bank of America  United States  133840   \n",
       "6      7                                  Alphabet  United States  282850   \n",
       "7      8                                ExxonMobil  United States  393160   \n",
       "8      9                                 Microsoft  United States  207590   \n",
       "9     10                                     Apple  United States  385100   \n",
       "\n",
       "  Ganancias  Activos  Valor de Mercado  \n",
       "0     41800  3744300            399590  \n",
       "1    156360   660990           2055220  \n",
       "2     52470  6116820            203010  \n",
       "3     48250  4977480            172990  \n",
       "4     37920  5356860            141820  \n",
       "5     28620  3194660            220820  \n",
       "6     58590   369490           1340530  \n",
       "7     61690   369370            439390  \n",
       "8     69020   380090           2309840  \n",
       "9     94320   332160           2746210  "
      ]
     },
     "execution_count": 76,
     "metadata": {},
     "output_type": "execute_result"
    }
   ],
   "source": [
    "forbes23.head(n=10) # Top 10 de las empresas de forbes23"
   ]
  },
  {
   "cell_type": "code",
   "execution_count": 77,
   "metadata": {},
   "outputs": [
    {
     "name": "stdout",
     "output_type": "stream",
     "text": [
      "<class 'pandas.core.frame.DataFrame'>\n",
      "RangeIndex: 2000 entries, 0 to 1999\n",
      "Data columns (total 7 columns):\n",
      " #   Column            Non-Null Count  Dtype \n",
      "---  ------            --------------  ----- \n",
      " 0   Rango             2000 non-null   int64 \n",
      " 1   Compañia          2000 non-null   object\n",
      " 2   Pais              2000 non-null   object\n",
      " 3   Ventas            2000 non-null   int64 \n",
      " 4   Ganancias         2000 non-null   object\n",
      " 5   Activos           2000 non-null   int64 \n",
      " 6   Valor de Mercado  2000 non-null   int64 \n",
      "dtypes: int64(4), object(3)\n",
      "memory usage: 109.5+ KB\n"
     ]
    }
   ],
   "source": [
    "forbes23.info()"
   ]
  },
  {
   "cell_type": "code",
   "execution_count": 78,
   "metadata": {},
   "outputs": [
    {
     "data": {
      "text/plain": [
       "Rango               False\n",
       "Compañia            False\n",
       "Pais                False\n",
       "Ventas              False\n",
       "Ganancias           False\n",
       "Activos             False\n",
       "Valor de Mercado    False\n",
       "dtype: bool"
      ]
     },
     "execution_count": 78,
     "metadata": {},
     "output_type": "execute_result"
    }
   ],
   "source": [
    "forbes23.isna().any()"
   ]
  },
  {
   "cell_type": "code",
   "execution_count": 79,
   "metadata": {},
   "outputs": [
    {
     "data": {
      "text/html": [
       "<div>\n",
       "<style scoped>\n",
       "    .dataframe tbody tr th:only-of-type {\n",
       "        vertical-align: middle;\n",
       "    }\n",
       "\n",
       "    .dataframe tbody tr th {\n",
       "        vertical-align: top;\n",
       "    }\n",
       "\n",
       "    .dataframe thead th {\n",
       "        text-align: right;\n",
       "    }\n",
       "</style>\n",
       "<table border=\"1\" class=\"dataframe\">\n",
       "  <thead>\n",
       "    <tr style=\"text-align: right;\">\n",
       "      <th></th>\n",
       "      <th>Rango</th>\n",
       "      <th>Compañia</th>\n",
       "      <th>Pais</th>\n",
       "      <th>Ventas</th>\n",
       "      <th>Ganancias</th>\n",
       "      <th>Activos</th>\n",
       "      <th>Valor de Mercado</th>\n",
       "    </tr>\n",
       "  </thead>\n",
       "  <tbody>\n",
       "    <tr>\n",
       "      <th>0</th>\n",
       "      <td>1</td>\n",
       "      <td>JPMorgan Chase</td>\n",
       "      <td>United States</td>\n",
       "      <td>179930</td>\n",
       "      <td>41800</td>\n",
       "      <td>3744300</td>\n",
       "      <td>399590</td>\n",
       "    </tr>\n",
       "    <tr>\n",
       "      <th>1</th>\n",
       "      <td>2</td>\n",
       "      <td>Saudi Arabian Oil Company (Saudi Aramco)</td>\n",
       "      <td>Saudi Arabia</td>\n",
       "      <td>589470</td>\n",
       "      <td>156360</td>\n",
       "      <td>660990</td>\n",
       "      <td>2055220</td>\n",
       "    </tr>\n",
       "    <tr>\n",
       "      <th>2</th>\n",
       "      <td>3</td>\n",
       "      <td>ICBC</td>\n",
       "      <td>China</td>\n",
       "      <td>216770</td>\n",
       "      <td>52470</td>\n",
       "      <td>6116820</td>\n",
       "      <td>203010</td>\n",
       "    </tr>\n",
       "    <tr>\n",
       "      <th>3</th>\n",
       "      <td>4</td>\n",
       "      <td>China Construction Bank</td>\n",
       "      <td>China</td>\n",
       "      <td>203080</td>\n",
       "      <td>48250</td>\n",
       "      <td>4977480</td>\n",
       "      <td>172990</td>\n",
       "    </tr>\n",
       "    <tr>\n",
       "      <th>4</th>\n",
       "      <td>5</td>\n",
       "      <td>Agricultural Bank of China</td>\n",
       "      <td>China</td>\n",
       "      <td>186140</td>\n",
       "      <td>37920</td>\n",
       "      <td>5356860</td>\n",
       "      <td>141820</td>\n",
       "    </tr>\n",
       "  </tbody>\n",
       "</table>\n",
       "</div>"
      ],
      "text/plain": [
       "   Rango                                  Compañia           Pais  Ventas  \\\n",
       "0      1                            JPMorgan Chase  United States  179930   \n",
       "1      2  Saudi Arabian Oil Company (Saudi Aramco)   Saudi Arabia  589470   \n",
       "2      3                                      ICBC          China  216770   \n",
       "3      4                   China Construction Bank          China  203080   \n",
       "4      5                Agricultural Bank of China          China  186140   \n",
       "\n",
       "  Ganancias  Activos  Valor de Mercado  \n",
       "0     41800  3744300            399590  \n",
       "1    156360   660990           2055220  \n",
       "2     52470  6116820            203010  \n",
       "3     48250  4977480            172990  \n",
       "4     37920  5356860            141820  "
      ]
     },
     "execution_count": 79,
     "metadata": {},
     "output_type": "execute_result"
    }
   ],
   "source": [
    "# Modifiquemos el formato de los datos\n",
    "\n",
    "forbes23 = forbes23.replace(',','',regex= True) # regex: expresión regular\n",
    "forbes23.head()"
   ]
  },
  {
   "cell_type": "code",
   "execution_count": 80,
   "metadata": {},
   "outputs": [
    {
     "data": {
      "text/html": [
       "<div>\n",
       "<style scoped>\n",
       "    .dataframe tbody tr th:only-of-type {\n",
       "        vertical-align: middle;\n",
       "    }\n",
       "\n",
       "    .dataframe tbody tr th {\n",
       "        vertical-align: top;\n",
       "    }\n",
       "\n",
       "    .dataframe thead th {\n",
       "        text-align: right;\n",
       "    }\n",
       "</style>\n",
       "<table border=\"1\" class=\"dataframe\">\n",
       "  <thead>\n",
       "    <tr style=\"text-align: right;\">\n",
       "      <th></th>\n",
       "      <th>Rango</th>\n",
       "      <th>Compañia</th>\n",
       "      <th>Pais</th>\n",
       "      <th>Ventas</th>\n",
       "      <th>Ganancias</th>\n",
       "      <th>Activos</th>\n",
       "      <th>Valor de Mercado</th>\n",
       "    </tr>\n",
       "  </thead>\n",
       "  <tbody>\n",
       "    <tr>\n",
       "      <th>0</th>\n",
       "      <td>1</td>\n",
       "      <td>JPMorgan Chase</td>\n",
       "      <td>United States</td>\n",
       "      <td>179930</td>\n",
       "      <td>41800</td>\n",
       "      <td>3744300</td>\n",
       "      <td>399590</td>\n",
       "    </tr>\n",
       "    <tr>\n",
       "      <th>1</th>\n",
       "      <td>2</td>\n",
       "      <td>Saudi Arabian Oil Company (Saudi Aramco)</td>\n",
       "      <td>Saudi Arabia</td>\n",
       "      <td>589470</td>\n",
       "      <td>156360</td>\n",
       "      <td>660990</td>\n",
       "      <td>2055220</td>\n",
       "    </tr>\n",
       "    <tr>\n",
       "      <th>2</th>\n",
       "      <td>3</td>\n",
       "      <td>ICBC</td>\n",
       "      <td>China</td>\n",
       "      <td>216770</td>\n",
       "      <td>52470</td>\n",
       "      <td>6116820</td>\n",
       "      <td>203010</td>\n",
       "    </tr>\n",
       "    <tr>\n",
       "      <th>3</th>\n",
       "      <td>4</td>\n",
       "      <td>China Construction Bank</td>\n",
       "      <td>China</td>\n",
       "      <td>203080</td>\n",
       "      <td>48250</td>\n",
       "      <td>4977480</td>\n",
       "      <td>172990</td>\n",
       "    </tr>\n",
       "    <tr>\n",
       "      <th>4</th>\n",
       "      <td>5</td>\n",
       "      <td>Agricultural Bank of China</td>\n",
       "      <td>China</td>\n",
       "      <td>186140</td>\n",
       "      <td>37920</td>\n",
       "      <td>5356860</td>\n",
       "      <td>141820</td>\n",
       "    </tr>\n",
       "  </tbody>\n",
       "</table>\n",
       "</div>"
      ],
      "text/plain": [
       "   Rango                                  Compañia           Pais  Ventas  \\\n",
       "0      1                            JPMorgan Chase  United States  179930   \n",
       "1      2  Saudi Arabian Oil Company (Saudi Aramco)   Saudi Arabia  589470   \n",
       "2      3                                      ICBC          China  216770   \n",
       "3      4                   China Construction Bank          China  203080   \n",
       "4      5                Agricultural Bank of China          China  186140   \n",
       "\n",
       "  Ganancias  Activos  Valor de Mercado  \n",
       "0     41800  3744300            399590  \n",
       "1    156360   660990           2055220  \n",
       "2     52470  6116820            203010  \n",
       "3     48250  4977480            172990  \n",
       "4     37920  5356860            141820  "
      ]
     },
     "execution_count": 80,
     "metadata": {},
     "output_type": "execute_result"
    }
   ],
   "source": [
    "forbes23 = forbes23.replace('/$','',regex=True) #La expresión regular de $ es con /$\n",
    "forbes23.head()"
   ]
  },
  {
   "cell_type": "code",
   "execution_count": 81,
   "metadata": {},
   "outputs": [
    {
     "data": {
      "text/html": [
       "<div>\n",
       "<style scoped>\n",
       "    .dataframe tbody tr th:only-of-type {\n",
       "        vertical-align: middle;\n",
       "    }\n",
       "\n",
       "    .dataframe tbody tr th {\n",
       "        vertical-align: top;\n",
       "    }\n",
       "\n",
       "    .dataframe thead th {\n",
       "        text-align: right;\n",
       "    }\n",
       "</style>\n",
       "<table border=\"1\" class=\"dataframe\">\n",
       "  <thead>\n",
       "    <tr style=\"text-align: right;\">\n",
       "      <th></th>\n",
       "      <th>Rango</th>\n",
       "      <th>Compañia</th>\n",
       "      <th>Pais</th>\n",
       "      <th>Ventas</th>\n",
       "      <th>Ganancias</th>\n",
       "      <th>Activos</th>\n",
       "      <th>Valor de Mercado</th>\n",
       "    </tr>\n",
       "  </thead>\n",
       "  <tbody>\n",
       "    <tr>\n",
       "      <th>1900</th>\n",
       "      <td>1901</td>\n",
       "      <td>Arab Bank</td>\n",
       "      <td>Jordan</td>\n",
       "      <td>2200</td>\n",
       "      <td>4808</td>\n",
       "      <td>39190</td>\n",
       "      <td>4100</td>\n",
       "    </tr>\n",
       "    <tr>\n",
       "      <th>1901</th>\n",
       "      <td>1902</td>\n",
       "      <td>YTO Express Group</td>\n",
       "      <td>China</td>\n",
       "      <td>7940</td>\n",
       "      <td>5769</td>\n",
       "      <td>5870</td>\n",
       "      <td>9120</td>\n",
       "    </tr>\n",
       "    <tr>\n",
       "      <th>1902</th>\n",
       "      <td>1903</td>\n",
       "      <td>Nanto Bank</td>\n",
       "      <td>Japan</td>\n",
       "      <td>564</td>\n",
       "      <td>862</td>\n",
       "      <td>49950</td>\n",
       "      <td>579</td>\n",
       "    </tr>\n",
       "    <tr>\n",
       "      <th>1903</th>\n",
       "      <td>1904</td>\n",
       "      <td>Tokyo Kiraboshi Financial Group</td>\n",
       "      <td>Japan</td>\n",
       "      <td>843</td>\n",
       "      <td>1762</td>\n",
       "      <td>49930</td>\n",
       "      <td>612</td>\n",
       "    </tr>\n",
       "    <tr>\n",
       "      <th>1904</th>\n",
       "      <td>1905</td>\n",
       "      <td>Suzuken</td>\n",
       "      <td>Japan</td>\n",
       "      <td>17540</td>\n",
       "      <td>1468</td>\n",
       "      <td>9880</td>\n",
       "      <td>2230</td>\n",
       "    </tr>\n",
       "    <tr>\n",
       "      <th>...</th>\n",
       "      <td>...</td>\n",
       "      <td>...</td>\n",
       "      <td>...</td>\n",
       "      <td>...</td>\n",
       "      <td>...</td>\n",
       "      <td>...</td>\n",
       "      <td>...</td>\n",
       "    </tr>\n",
       "    <tr>\n",
       "      <th>1995</th>\n",
       "      <td>1996</td>\n",
       "      <td>Alfa Laval</td>\n",
       "      <td>Sweden</td>\n",
       "      <td>5350</td>\n",
       "      <td>4895</td>\n",
       "      <td>7820</td>\n",
       "      <td>15600</td>\n",
       "    </tr>\n",
       "    <tr>\n",
       "      <th>1996</th>\n",
       "      <td>1996</td>\n",
       "      <td>Gap</td>\n",
       "      <td>United States</td>\n",
       "      <td>15620</td>\n",
       "      <td>-202</td>\n",
       "      <td>11390</td>\n",
       "      <td>3170</td>\n",
       "    </tr>\n",
       "    <tr>\n",
       "      <th>1997</th>\n",
       "      <td>1996</td>\n",
       "      <td>Yes Bank</td>\n",
       "      <td>India</td>\n",
       "      <td>3340</td>\n",
       "      <td>916</td>\n",
       "      <td>43220</td>\n",
       "      <td>5600</td>\n",
       "    </tr>\n",
       "    <tr>\n",
       "      <th>1998</th>\n",
       "      <td>1999</td>\n",
       "      <td>BEKB-BCBE</td>\n",
       "      <td>Switzerland</td>\n",
       "      <td>556</td>\n",
       "      <td>1671</td>\n",
       "      <td>42970</td>\n",
       "      <td>2490</td>\n",
       "    </tr>\n",
       "    <tr>\n",
       "      <th>1999</th>\n",
       "      <td>1999</td>\n",
       "      <td>Ipsen</td>\n",
       "      <td>France</td>\n",
       "      <td>3180</td>\n",
       "      <td>6817</td>\n",
       "      <td>5990</td>\n",
       "      <td>10210</td>\n",
       "    </tr>\n",
       "  </tbody>\n",
       "</table>\n",
       "<p>100 rows × 7 columns</p>\n",
       "</div>"
      ],
      "text/plain": [
       "      Rango                         Compañia           Pais  Ventas Ganancias  \\\n",
       "1900   1901                        Arab Bank         Jordan    2200      4808   \n",
       "1901   1902                YTO Express Group          China    7940      5769   \n",
       "1902   1903                       Nanto Bank          Japan     564       862   \n",
       "1903   1904  Tokyo Kiraboshi Financial Group          Japan     843      1762   \n",
       "1904   1905                          Suzuken          Japan   17540      1468   \n",
       "...     ...                              ...            ...     ...       ...   \n",
       "1995   1996                       Alfa Laval         Sweden    5350      4895   \n",
       "1996   1996                              Gap  United States   15620      -202   \n",
       "1997   1996                         Yes Bank          India    3340       916   \n",
       "1998   1999                        BEKB-BCBE    Switzerland     556      1671   \n",
       "1999   1999                            Ipsen         France    3180      6817   \n",
       "\n",
       "      Activos  Valor de Mercado  \n",
       "1900    39190              4100  \n",
       "1901     5870              9120  \n",
       "1902    49950               579  \n",
       "1903    49930               612  \n",
       "1904     9880              2230  \n",
       "...       ...               ...  \n",
       "1995     7820             15600  \n",
       "1996    11390              3170  \n",
       "1997    43220              5600  \n",
       "1998    42970              2490  \n",
       "1999     5990             10210  \n",
       "\n",
       "[100 rows x 7 columns]"
      ]
     },
     "execution_count": 81,
     "metadata": {},
     "output_type": "execute_result"
    }
   ],
   "source": [
    "# Acceder a filas y columnas\n",
    "# Indexing and slicing\n",
    "\n",
    "#Cómo acceder indicando filas con indexación\n",
    "forbes23[:] #Coja todas las filas\n",
    "forbes23[999:1010]\n",
    "forbes23[1900:]"
   ]
  },
  {
   "cell_type": "code",
   "execution_count": 82,
   "metadata": {},
   "outputs": [
    {
     "data": {
      "text/html": [
       "<div>\n",
       "<style scoped>\n",
       "    .dataframe tbody tr th:only-of-type {\n",
       "        vertical-align: middle;\n",
       "    }\n",
       "\n",
       "    .dataframe tbody tr th {\n",
       "        vertical-align: top;\n",
       "    }\n",
       "\n",
       "    .dataframe thead th {\n",
       "        text-align: right;\n",
       "    }\n",
       "</style>\n",
       "<table border=\"1\" class=\"dataframe\">\n",
       "  <thead>\n",
       "    <tr style=\"text-align: right;\">\n",
       "      <th></th>\n",
       "      <th>Compañia</th>\n",
       "      <th>Pais</th>\n",
       "      <th>Ventas</th>\n",
       "    </tr>\n",
       "  </thead>\n",
       "  <tbody>\n",
       "    <tr>\n",
       "      <th>100</th>\n",
       "      <td>Rio Tinto</td>\n",
       "      <td>United Kingdom</td>\n",
       "      <td>55340</td>\n",
       "    </tr>\n",
       "    <tr>\n",
       "      <th>101</th>\n",
       "      <td>Iberdrola</td>\n",
       "      <td>Spain</td>\n",
       "      <td>59550</td>\n",
       "    </tr>\n",
       "    <tr>\n",
       "      <th>102</th>\n",
       "      <td>BBVA-Banco Bilbao Vizcaya</td>\n",
       "      <td>Spain</td>\n",
       "      <td>51940</td>\n",
       "    </tr>\n",
       "    <tr>\n",
       "      <th>103</th>\n",
       "      <td>Hyundai Motor</td>\n",
       "      <td>South Korea</td>\n",
       "      <td>114550</td>\n",
       "    </tr>\n",
       "    <tr>\n",
       "      <th>104</th>\n",
       "      <td>Unilever</td>\n",
       "      <td>United Kingdom</td>\n",
       "      <td>63110</td>\n",
       "    </tr>\n",
       "    <tr>\n",
       "      <th>105</th>\n",
       "      <td>Zurich Insurance Group</td>\n",
       "      <td>Switzerland</td>\n",
       "      <td>41890</td>\n",
       "    </tr>\n",
       "    <tr>\n",
       "      <th>106</th>\n",
       "      <td>Deere &amp; Company</td>\n",
       "      <td>United States</td>\n",
       "      <td>55630</td>\n",
       "    </tr>\n",
       "    <tr>\n",
       "      <th>107</th>\n",
       "      <td>Mitsui</td>\n",
       "      <td>Japan</td>\n",
       "      <td>105570</td>\n",
       "    </tr>\n",
       "    <tr>\n",
       "      <th>108</th>\n",
       "      <td>Honda Motor</td>\n",
       "      <td>Japan</td>\n",
       "      <td>124680</td>\n",
       "    </tr>\n",
       "    <tr>\n",
       "      <th>109</th>\n",
       "      <td>British American Tobacco</td>\n",
       "      <td>United Kingdom</td>\n",
       "      <td>34060</td>\n",
       "    </tr>\n",
       "    <tr>\n",
       "      <th>110</th>\n",
       "      <td>Bristol Myers Squibb</td>\n",
       "      <td>United States</td>\n",
       "      <td>45850</td>\n",
       "    </tr>\n",
       "  </tbody>\n",
       "</table>\n",
       "</div>"
      ],
      "text/plain": [
       "                      Compañia            Pais  Ventas\n",
       "100                  Rio Tinto  United Kingdom   55340\n",
       "101                  Iberdrola           Spain   59550\n",
       "102  BBVA-Banco Bilbao Vizcaya           Spain   51940\n",
       "103              Hyundai Motor     South Korea  114550\n",
       "104                   Unilever  United Kingdom   63110\n",
       "105     Zurich Insurance Group     Switzerland   41890\n",
       "106            Deere & Company   United States   55630\n",
       "107                     Mitsui           Japan  105570\n",
       "108                Honda Motor           Japan  124680\n",
       "109   British American Tobacco  United Kingdom   34060\n",
       "110       Bristol Myers Squibb   United States   45850"
      ]
     },
     "execution_count": 82,
     "metadata": {},
     "output_type": "execute_result"
    }
   ],
   "source": [
    "#Acceder a columnas\n",
    "\n",
    "forbes23['Ventas']\n",
    "forbes23[['Compañia','Pais','Ventas']][100:111]"
   ]
  },
  {
   "cell_type": "code",
   "execution_count": 83,
   "metadata": {},
   "outputs": [
    {
     "data": {
      "text/html": [
       "<div>\n",
       "<style scoped>\n",
       "    .dataframe tbody tr th:only-of-type {\n",
       "        vertical-align: middle;\n",
       "    }\n",
       "\n",
       "    .dataframe tbody tr th {\n",
       "        vertical-align: top;\n",
       "    }\n",
       "\n",
       "    .dataframe thead th {\n",
       "        text-align: right;\n",
       "    }\n",
       "</style>\n",
       "<table border=\"1\" class=\"dataframe\">\n",
       "  <thead>\n",
       "    <tr style=\"text-align: right;\">\n",
       "      <th></th>\n",
       "      <th>Compañia</th>\n",
       "      <th>Pais</th>\n",
       "      <th>Ventas</th>\n",
       "    </tr>\n",
       "  </thead>\n",
       "  <tbody>\n",
       "    <tr>\n",
       "      <th>100</th>\n",
       "      <td>Rio Tinto</td>\n",
       "      <td>United Kingdom</td>\n",
       "      <td>55340</td>\n",
       "    </tr>\n",
       "    <tr>\n",
       "      <th>101</th>\n",
       "      <td>Iberdrola</td>\n",
       "      <td>Spain</td>\n",
       "      <td>59550</td>\n",
       "    </tr>\n",
       "    <tr>\n",
       "      <th>102</th>\n",
       "      <td>BBVA-Banco Bilbao Vizcaya</td>\n",
       "      <td>Spain</td>\n",
       "      <td>51940</td>\n",
       "    </tr>\n",
       "    <tr>\n",
       "      <th>103</th>\n",
       "      <td>Hyundai Motor</td>\n",
       "      <td>South Korea</td>\n",
       "      <td>114550</td>\n",
       "    </tr>\n",
       "    <tr>\n",
       "      <th>104</th>\n",
       "      <td>Unilever</td>\n",
       "      <td>United Kingdom</td>\n",
       "      <td>63110</td>\n",
       "    </tr>\n",
       "    <tr>\n",
       "      <th>105</th>\n",
       "      <td>Zurich Insurance Group</td>\n",
       "      <td>Switzerland</td>\n",
       "      <td>41890</td>\n",
       "    </tr>\n",
       "    <tr>\n",
       "      <th>106</th>\n",
       "      <td>Deere &amp; Company</td>\n",
       "      <td>United States</td>\n",
       "      <td>55630</td>\n",
       "    </tr>\n",
       "    <tr>\n",
       "      <th>107</th>\n",
       "      <td>Mitsui</td>\n",
       "      <td>Japan</td>\n",
       "      <td>105570</td>\n",
       "    </tr>\n",
       "    <tr>\n",
       "      <th>108</th>\n",
       "      <td>Honda Motor</td>\n",
       "      <td>Japan</td>\n",
       "      <td>124680</td>\n",
       "    </tr>\n",
       "    <tr>\n",
       "      <th>109</th>\n",
       "      <td>British American Tobacco</td>\n",
       "      <td>United Kingdom</td>\n",
       "      <td>34060</td>\n",
       "    </tr>\n",
       "    <tr>\n",
       "      <th>110</th>\n",
       "      <td>Bristol Myers Squibb</td>\n",
       "      <td>United States</td>\n",
       "      <td>45850</td>\n",
       "    </tr>\n",
       "  </tbody>\n",
       "</table>\n",
       "</div>"
      ],
      "text/plain": [
       "                      Compañia            Pais  Ventas\n",
       "100                  Rio Tinto  United Kingdom   55340\n",
       "101                  Iberdrola           Spain   59550\n",
       "102  BBVA-Banco Bilbao Vizcaya           Spain   51940\n",
       "103              Hyundai Motor     South Korea  114550\n",
       "104                   Unilever  United Kingdom   63110\n",
       "105     Zurich Insurance Group     Switzerland   41890\n",
       "106            Deere & Company   United States   55630\n",
       "107                     Mitsui           Japan  105570\n",
       "108                Honda Motor           Japan  124680\n",
       "109   British American Tobacco  United Kingdom   34060\n",
       "110       Bristol Myers Squibb   United States   45850"
      ]
     },
     "execution_count": 83,
     "metadata": {},
     "output_type": "execute_result"
    }
   ],
   "source": [
    "# Acceder a filas y columnas\n",
    "\n",
    "forbes23[['Compañia','Pais','Ventas']][100:111]"
   ]
  },
  {
   "cell_type": "code",
   "execution_count": 84,
   "metadata": {},
   "outputs": [
    {
     "data": {
      "text/html": [
       "<div>\n",
       "<style scoped>\n",
       "    .dataframe tbody tr th:only-of-type {\n",
       "        vertical-align: middle;\n",
       "    }\n",
       "\n",
       "    .dataframe tbody tr th {\n",
       "        vertical-align: top;\n",
       "    }\n",
       "\n",
       "    .dataframe thead th {\n",
       "        text-align: right;\n",
       "    }\n",
       "</style>\n",
       "<table border=\"1\" class=\"dataframe\">\n",
       "  <thead>\n",
       "    <tr style=\"text-align: right;\">\n",
       "      <th></th>\n",
       "      <th>Compañia</th>\n",
       "      <th>Ventas</th>\n",
       "    </tr>\n",
       "  </thead>\n",
       "  <tbody>\n",
       "    <tr>\n",
       "      <th>10</th>\n",
       "      <td>Shell</td>\n",
       "      <td>365890</td>\n",
       "    </tr>\n",
       "    <tr>\n",
       "      <th>11</th>\n",
       "      <td>Bank of China</td>\n",
       "      <td>158230</td>\n",
       "    </tr>\n",
       "    <tr>\n",
       "      <th>12</th>\n",
       "      <td>Toyota Motor</td>\n",
       "      <td>270490</td>\n",
       "    </tr>\n",
       "    <tr>\n",
       "      <th>13</th>\n",
       "      <td>Samsung Electronics</td>\n",
       "      <td>220070</td>\n",
       "    </tr>\n",
       "    <tr>\n",
       "      <th>14</th>\n",
       "      <td>UnitedHealth Group</td>\n",
       "      <td>335940</td>\n",
       "    </tr>\n",
       "    <tr>\n",
       "      <th>15</th>\n",
       "      <td>Ping An Insurance Group</td>\n",
       "      <td>166370</td>\n",
       "    </tr>\n",
       "    <tr>\n",
       "      <th>16</th>\n",
       "      <td>Wells Fargo</td>\n",
       "      <td>108930</td>\n",
       "    </tr>\n",
       "    <tr>\n",
       "      <th>17</th>\n",
       "      <td>Chevron</td>\n",
       "      <td>232120</td>\n",
       "    </tr>\n",
       "    <tr>\n",
       "      <th>18</th>\n",
       "      <td>PetroChina</td>\n",
       "      <td>457400</td>\n",
       "    </tr>\n",
       "    <tr>\n",
       "      <th>19</th>\n",
       "      <td>HSBC Holdings</td>\n",
       "      <td>73980</td>\n",
       "    </tr>\n",
       "    <tr>\n",
       "      <th>20</th>\n",
       "      <td>TotalEnergies</td>\n",
       "      <td>257590</td>\n",
       "    </tr>\n",
       "  </tbody>\n",
       "</table>\n",
       "</div>"
      ],
      "text/plain": [
       "                   Compañia  Ventas\n",
       "10                    Shell  365890\n",
       "11            Bank of China  158230\n",
       "12             Toyota Motor  270490\n",
       "13      Samsung Electronics  220070\n",
       "14       UnitedHealth Group  335940\n",
       "15  Ping An Insurance Group  166370\n",
       "16              Wells Fargo  108930\n",
       "17                  Chevron  232120\n",
       "18               PetroChina  457400\n",
       "19            HSBC Holdings   73980\n",
       "20            TotalEnergies  257590"
      ]
     },
     "execution_count": 84,
     "metadata": {},
     "output_type": "execute_result"
    }
   ],
   "source": [
    "# Método loc de pandas: df.loc[filas,columnas(labels)]\n",
    "\n",
    "forbes23.loc[:] #Me muestra todo el df\n",
    "forbes23.loc[10:20,['Compañia','Ventas']]"
   ]
  },
  {
   "cell_type": "code",
   "execution_count": 85,
   "metadata": {},
   "outputs": [
    {
     "data": {
      "text/html": [
       "<div>\n",
       "<style scoped>\n",
       "    .dataframe tbody tr th:only-of-type {\n",
       "        vertical-align: middle;\n",
       "    }\n",
       "\n",
       "    .dataframe tbody tr th {\n",
       "        vertical-align: top;\n",
       "    }\n",
       "\n",
       "    .dataframe thead th {\n",
       "        text-align: right;\n",
       "    }\n",
       "</style>\n",
       "<table border=\"1\" class=\"dataframe\">\n",
       "  <thead>\n",
       "    <tr style=\"text-align: right;\">\n",
       "      <th></th>\n",
       "      <th>Pais</th>\n",
       "      <th>Ventas</th>\n",
       "      <th>Ganancias</th>\n",
       "      <th>Activos</th>\n",
       "      <th>Valor de Mercado</th>\n",
       "    </tr>\n",
       "  </thead>\n",
       "  <tbody>\n",
       "    <tr>\n",
       "      <th>0</th>\n",
       "      <td>United States</td>\n",
       "      <td>179930</td>\n",
       "      <td>41800</td>\n",
       "      <td>3744300</td>\n",
       "      <td>399590</td>\n",
       "    </tr>\n",
       "    <tr>\n",
       "      <th>1</th>\n",
       "      <td>Saudi Arabia</td>\n",
       "      <td>589470</td>\n",
       "      <td>156360</td>\n",
       "      <td>660990</td>\n",
       "      <td>2055220</td>\n",
       "    </tr>\n",
       "  </tbody>\n",
       "</table>\n",
       "</div>"
      ],
      "text/plain": [
       "            Pais  Ventas Ganancias  Activos  Valor de Mercado\n",
       "0  United States  179930     41800  3744300            399590\n",
       "1   Saudi Arabia  589470    156360   660990           2055220"
      ]
     },
     "execution_count": 85,
     "metadata": {},
     "output_type": "execute_result"
    }
   ],
   "source": [
    "# Función iloc: df.iloc[filas,columnas] por indices o int\n",
    "forbes23.iloc[1,3] #fila 1, columna 3\n",
    "forbes23.iloc[:5,[2,4,6]]\n",
    "forbes23.iloc[:2,2:]"
   ]
  },
  {
   "cell_type": "code",
   "execution_count": 86,
   "metadata": {},
   "outputs": [
    {
     "data": {
      "text/html": [
       "<div>\n",
       "<style scoped>\n",
       "    .dataframe tbody tr th:only-of-type {\n",
       "        vertical-align: middle;\n",
       "    }\n",
       "\n",
       "    .dataframe tbody tr th {\n",
       "        vertical-align: top;\n",
       "    }\n",
       "\n",
       "    .dataframe thead th {\n",
       "        text-align: right;\n",
       "    }\n",
       "</style>\n",
       "<table border=\"1\" class=\"dataframe\">\n",
       "  <thead>\n",
       "    <tr style=\"text-align: right;\">\n",
       "      <th></th>\n",
       "      <th>Ventas</th>\n",
       "      <th>Ganancias</th>\n",
       "      <th>Activos</th>\n",
       "      <th>Valor de Mercado</th>\n",
       "    </tr>\n",
       "  </thead>\n",
       "  <tbody>\n",
       "    <tr>\n",
       "      <th>0</th>\n",
       "      <td>179930.0</td>\n",
       "      <td>41800.0</td>\n",
       "      <td>3744300.0</td>\n",
       "      <td>399590.0</td>\n",
       "    </tr>\n",
       "    <tr>\n",
       "      <th>1</th>\n",
       "      <td>589470.0</td>\n",
       "      <td>156360.0</td>\n",
       "      <td>660990.0</td>\n",
       "      <td>2055220.0</td>\n",
       "    </tr>\n",
       "    <tr>\n",
       "      <th>2</th>\n",
       "      <td>216770.0</td>\n",
       "      <td>52470.0</td>\n",
       "      <td>6116820.0</td>\n",
       "      <td>203010.0</td>\n",
       "    </tr>\n",
       "    <tr>\n",
       "      <th>3</th>\n",
       "      <td>203080.0</td>\n",
       "      <td>48250.0</td>\n",
       "      <td>4977480.0</td>\n",
       "      <td>172990.0</td>\n",
       "    </tr>\n",
       "    <tr>\n",
       "      <th>4</th>\n",
       "      <td>186140.0</td>\n",
       "      <td>37920.0</td>\n",
       "      <td>5356860.0</td>\n",
       "      <td>141820.0</td>\n",
       "    </tr>\n",
       "    <tr>\n",
       "      <th>...</th>\n",
       "      <td>...</td>\n",
       "      <td>...</td>\n",
       "      <td>...</td>\n",
       "      <td>...</td>\n",
       "    </tr>\n",
       "    <tr>\n",
       "      <th>1995</th>\n",
       "      <td>5350.0</td>\n",
       "      <td>4895.0</td>\n",
       "      <td>7820.0</td>\n",
       "      <td>15600.0</td>\n",
       "    </tr>\n",
       "    <tr>\n",
       "      <th>1996</th>\n",
       "      <td>15620.0</td>\n",
       "      <td>-202.0</td>\n",
       "      <td>11390.0</td>\n",
       "      <td>3170.0</td>\n",
       "    </tr>\n",
       "    <tr>\n",
       "      <th>1997</th>\n",
       "      <td>3340.0</td>\n",
       "      <td>916.0</td>\n",
       "      <td>43220.0</td>\n",
       "      <td>5600.0</td>\n",
       "    </tr>\n",
       "    <tr>\n",
       "      <th>1998</th>\n",
       "      <td>556.0</td>\n",
       "      <td>1671.0</td>\n",
       "      <td>42970.0</td>\n",
       "      <td>2490.0</td>\n",
       "    </tr>\n",
       "    <tr>\n",
       "      <th>1999</th>\n",
       "      <td>3180.0</td>\n",
       "      <td>6817.0</td>\n",
       "      <td>5990.0</td>\n",
       "      <td>10210.0</td>\n",
       "    </tr>\n",
       "  </tbody>\n",
       "</table>\n",
       "<p>2000 rows × 4 columns</p>\n",
       "</div>"
      ],
      "text/plain": [
       "        Ventas  Ganancias    Activos  Valor de Mercado\n",
       "0     179930.0    41800.0  3744300.0          399590.0\n",
       "1     589470.0   156360.0   660990.0         2055220.0\n",
       "2     216770.0    52470.0  6116820.0          203010.0\n",
       "3     203080.0    48250.0  4977480.0          172990.0\n",
       "4     186140.0    37920.0  5356860.0          141820.0\n",
       "...        ...        ...        ...               ...\n",
       "1995    5350.0     4895.0     7820.0           15600.0\n",
       "1996   15620.0     -202.0    11390.0            3170.0\n",
       "1997    3340.0      916.0    43220.0            5600.0\n",
       "1998     556.0     1671.0    42970.0            2490.0\n",
       "1999    3180.0     6817.0     5990.0           10210.0\n",
       "\n",
       "[2000 rows x 4 columns]"
      ]
     },
     "execution_count": 86,
     "metadata": {},
     "output_type": "execute_result"
    }
   ],
   "source": [
    "#Coercionar datos\n",
    "\n",
    "forbes23.iloc[:,3:].astype(float) # ¿Cuál es el error?"
   ]
  },
  {
   "cell_type": "code",
   "execution_count": 87,
   "metadata": {},
   "outputs": [
    {
     "data": {
      "text/html": [
       "<div>\n",
       "<style scoped>\n",
       "    .dataframe tbody tr th:only-of-type {\n",
       "        vertical-align: middle;\n",
       "    }\n",
       "\n",
       "    .dataframe tbody tr th {\n",
       "        vertical-align: top;\n",
       "    }\n",
       "\n",
       "    .dataframe thead th {\n",
       "        text-align: right;\n",
       "    }\n",
       "</style>\n",
       "<table border=\"1\" class=\"dataframe\">\n",
       "  <thead>\n",
       "    <tr style=\"text-align: right;\">\n",
       "      <th></th>\n",
       "      <th>Rango</th>\n",
       "      <th>Compañia</th>\n",
       "      <th>Pais</th>\n",
       "      <th>Ventas</th>\n",
       "      <th>Ganancias</th>\n",
       "      <th>Activos</th>\n",
       "      <th>Valor de Mercado</th>\n",
       "    </tr>\n",
       "  </thead>\n",
       "  <tbody>\n",
       "    <tr>\n",
       "      <th>0</th>\n",
       "      <td>False</td>\n",
       "      <td>False</td>\n",
       "      <td>False</td>\n",
       "      <td>False</td>\n",
       "      <td>False</td>\n",
       "      <td>False</td>\n",
       "      <td>False</td>\n",
       "    </tr>\n",
       "    <tr>\n",
       "      <th>1</th>\n",
       "      <td>False</td>\n",
       "      <td>False</td>\n",
       "      <td>False</td>\n",
       "      <td>False</td>\n",
       "      <td>False</td>\n",
       "      <td>False</td>\n",
       "      <td>False</td>\n",
       "    </tr>\n",
       "    <tr>\n",
       "      <th>2</th>\n",
       "      <td>False</td>\n",
       "      <td>False</td>\n",
       "      <td>False</td>\n",
       "      <td>False</td>\n",
       "      <td>False</td>\n",
       "      <td>False</td>\n",
       "      <td>False</td>\n",
       "    </tr>\n",
       "    <tr>\n",
       "      <th>3</th>\n",
       "      <td>False</td>\n",
       "      <td>False</td>\n",
       "      <td>False</td>\n",
       "      <td>False</td>\n",
       "      <td>False</td>\n",
       "      <td>False</td>\n",
       "      <td>False</td>\n",
       "    </tr>\n",
       "    <tr>\n",
       "      <th>4</th>\n",
       "      <td>False</td>\n",
       "      <td>False</td>\n",
       "      <td>False</td>\n",
       "      <td>False</td>\n",
       "      <td>False</td>\n",
       "      <td>False</td>\n",
       "      <td>False</td>\n",
       "    </tr>\n",
       "    <tr>\n",
       "      <th>...</th>\n",
       "      <td>...</td>\n",
       "      <td>...</td>\n",
       "      <td>...</td>\n",
       "      <td>...</td>\n",
       "      <td>...</td>\n",
       "      <td>...</td>\n",
       "      <td>...</td>\n",
       "    </tr>\n",
       "    <tr>\n",
       "      <th>1995</th>\n",
       "      <td>False</td>\n",
       "      <td>False</td>\n",
       "      <td>False</td>\n",
       "      <td>False</td>\n",
       "      <td>False</td>\n",
       "      <td>False</td>\n",
       "      <td>False</td>\n",
       "    </tr>\n",
       "    <tr>\n",
       "      <th>1996</th>\n",
       "      <td>False</td>\n",
       "      <td>False</td>\n",
       "      <td>False</td>\n",
       "      <td>False</td>\n",
       "      <td>False</td>\n",
       "      <td>False</td>\n",
       "      <td>False</td>\n",
       "    </tr>\n",
       "    <tr>\n",
       "      <th>1997</th>\n",
       "      <td>False</td>\n",
       "      <td>False</td>\n",
       "      <td>False</td>\n",
       "      <td>False</td>\n",
       "      <td>False</td>\n",
       "      <td>False</td>\n",
       "      <td>False</td>\n",
       "    </tr>\n",
       "    <tr>\n",
       "      <th>1998</th>\n",
       "      <td>False</td>\n",
       "      <td>False</td>\n",
       "      <td>False</td>\n",
       "      <td>False</td>\n",
       "      <td>False</td>\n",
       "      <td>False</td>\n",
       "      <td>False</td>\n",
       "    </tr>\n",
       "    <tr>\n",
       "      <th>1999</th>\n",
       "      <td>False</td>\n",
       "      <td>False</td>\n",
       "      <td>False</td>\n",
       "      <td>False</td>\n",
       "      <td>False</td>\n",
       "      <td>False</td>\n",
       "      <td>False</td>\n",
       "    </tr>\n",
       "  </tbody>\n",
       "</table>\n",
       "<p>2000 rows × 7 columns</p>\n",
       "</div>"
      ],
      "text/plain": [
       "      Rango  Compañia   Pais  Ventas  Ganancias  Activos  Valor de Mercado\n",
       "0     False     False  False   False      False    False             False\n",
       "1     False     False  False   False      False    False             False\n",
       "2     False     False  False   False      False    False             False\n",
       "3     False     False  False   False      False    False             False\n",
       "4     False     False  False   False      False    False             False\n",
       "...     ...       ...    ...     ...        ...      ...               ...\n",
       "1995  False     False  False   False      False    False             False\n",
       "1996  False     False  False   False      False    False             False\n",
       "1997  False     False  False   False      False    False             False\n",
       "1998  False     False  False   False      False    False             False\n",
       "1999  False     False  False   False      False    False             False\n",
       "\n",
       "[2000 rows x 7 columns]"
      ]
     },
     "execution_count": 87,
     "metadata": {},
     "output_type": "execute_result"
    }
   ],
   "source": [
    "#Tenemos un caracter extraño que no puede ser coercionado a float: '-'\n",
    "\n",
    "forbes23.isin(['-']) # Método de Pandas"
   ]
  },
  {
   "cell_type": "code",
   "execution_count": 88,
   "metadata": {},
   "outputs": [
    {
     "data": {
      "text/plain": [
       "Rango               False\n",
       "Compañia            False\n",
       "Pais                False\n",
       "Ventas              False\n",
       "Ganancias           False\n",
       "Activos             False\n",
       "Valor de Mercado    False\n",
       "dtype: bool"
      ]
     },
     "execution_count": 88,
     "metadata": {},
     "output_type": "execute_result"
    }
   ],
   "source": [
    "forbes23.isin(['-']).any()\n",
    "#forbes21.isin(['-']).any().any()"
   ]
  },
  {
   "cell_type": "code",
   "execution_count": 89,
   "metadata": {},
   "outputs": [],
   "source": [
    "# Remplazamos el '-' por NaN que es el missing de Pandas\n",
    "\n",
    "forbes23['Activos'] = forbes23['Activos'].replace('-',float('nan')) "
   ]
  },
  {
   "cell_type": "code",
   "execution_count": 90,
   "metadata": {},
   "outputs": [
    {
     "data": {
      "text/plain": [
       "Rango               False\n",
       "Compañia            False\n",
       "Pais                False\n",
       "Ventas              False\n",
       "Ganancias           False\n",
       "Activos             False\n",
       "Valor de Mercado    False\n",
       "dtype: bool"
      ]
     },
     "execution_count": 90,
     "metadata": {},
     "output_type": "execute_result"
    }
   ],
   "source": [
    "forbes23.isin(['-']).any()"
   ]
  },
  {
   "cell_type": "code",
   "execution_count": 91,
   "metadata": {},
   "outputs": [
    {
     "data": {
      "text/plain": [
       "Rango               False\n",
       "Compañia            False\n",
       "Pais                False\n",
       "Ventas              False\n",
       "Ganancias           False\n",
       "Activos             False\n",
       "Valor de Mercado    False\n",
       "dtype: bool"
      ]
     },
     "execution_count": 91,
     "metadata": {},
     "output_type": "execute_result"
    }
   ],
   "source": [
    "forbes23.isna().any()"
   ]
  },
  {
   "cell_type": "code",
   "execution_count": 92,
   "metadata": {},
   "outputs": [],
   "source": [
    "# Coercionar los datos de str a float\n",
    "forbes23.iloc[:,3:] = forbes23.iloc[:,3:].astype(float) "
   ]
  },
  {
   "cell_type": "code",
   "execution_count": 93,
   "metadata": {},
   "outputs": [
    {
     "data": {
      "text/plain": [
       "(2000, 25422.461, 46517.172958881776, 2163847380.086522)"
      ]
     },
     "execution_count": 93,
     "metadata": {},
     "output_type": "execute_result"
    }
   ],
   "source": [
    "forbes23['Ventas'].count(), forbes23['Ventas'].mean(), forbes23['Ventas'].std(), forbes23['Ventas'].var() #Varianza"
   ]
  },
  {
   "cell_type": "code",
   "execution_count": 94,
   "metadata": {},
   "outputs": [
    {
     "data": {
      "text/plain": [
       "Rango               0\n",
       "Compañia            0\n",
       "Pais                0\n",
       "Ventas              0\n",
       "Ganancias           0\n",
       "Activos             0\n",
       "Valor de Mercado    0\n",
       "dtype: int64"
      ]
     },
     "execution_count": 94,
     "metadata": {},
     "output_type": "execute_result"
    }
   ],
   "source": [
    "# ¿Cuántos datos vacias hay?\n",
    "\n",
    "forbes23.isna().sum()"
   ]
  },
  {
   "cell_type": "code",
   "execution_count": 95,
   "metadata": {},
   "outputs": [
    {
     "data": {
      "text/plain": [
       "0.0"
      ]
     },
     "execution_count": 95,
     "metadata": {},
     "output_type": "execute_result"
    }
   ],
   "source": [
    "# ¿A qué porcentaje del total de mis datos corresponden las observaciones vacias?\n",
    "\n",
    "100*forbes23.isna().sum().sum()/forbes23.shape[0] # Vacios sobre numero de registros\n",
    "\n",
    "# Si los vacios representan menos del 1%, podemos proceder a eliminarlos"
   ]
  },
  {
   "cell_type": "code",
   "execution_count": 96,
   "metadata": {},
   "outputs": [],
   "source": [
    "#Dos caminos posibles: eliminar o imputar datos\n",
    "\n",
    "# Eliminación de datos\n",
    "#forbes23 = forbes23.dropna() \n",
    "#forbes23.dropna(inplace= True) "
   ]
  },
  {
   "cell_type": "code",
   "execution_count": 97,
   "metadata": {},
   "outputs": [
    {
     "data": {
      "text/plain": [
       "Pais\n",
       "Argentina                 1\n",
       "Australia                32\n",
       "Austria                   9\n",
       "Belgium                   6\n",
       "Bermuda                   6\n",
       "Brazil                   22\n",
       "Canada                   57\n",
       "Cayman Islands            2\n",
       "Chile                     8\n",
       "China                   302\n",
       "Colombia                  4\n",
       "Czech Republic            1\n",
       "Denmark                  10\n",
       "Egypt                     1\n",
       "Finland                  10\n",
       "France                   52\n",
       "Germany                  53\n",
       "Greece                    8\n",
       "Hong Kong                44\n",
       "Hungary                   2\n",
       "India                    55\n",
       "Indonesia                 8\n",
       "Ireland                  22\n",
       "Israel                   11\n",
       "Italy                    28\n",
       "Japan                   192\n",
       "Jordan                    1\n",
       "Kazakhstan                2\n",
       "Kuwait                    2\n",
       "Luxembourg                6\n",
       "Malaysia                  8\n",
       "Mexico                   13\n",
       "Morocco                   2\n",
       "Netherlands              25\n",
       "Nigeria                   2\n",
       "Norway                    9\n",
       "Oman                      1\n",
       "Pakistan                  1\n",
       "Peru                      1\n",
       "Philippines               4\n",
       "Poland                    7\n",
       "Portugal                  4\n",
       "Qatar                     6\n",
       "Saudi Arabia             17\n",
       "Singapore                14\n",
       "South Africa             12\n",
       "South Korea              59\n",
       "Spain                    20\n",
       "Sweden                   24\n",
       "Switzerland              44\n",
       "Taiwan                   45\n",
       "Thailand                 17\n",
       "Turkey                    9\n",
       "United Arab Emirates     16\n",
       "United Kingdom           67\n",
       "United States           610\n",
       "Uruguay                   1\n",
       "Vietnam                   5\n",
       "dtype: int64"
      ]
     },
     "execution_count": 97,
     "metadata": {},
     "output_type": "execute_result"
    }
   ],
   "source": [
    "#Ejemplos de groupby\n",
    "forbes23.groupby('Pais').size()"
   ]
  },
  {
   "cell_type": "code",
   "execution_count": 98,
   "metadata": {},
   "outputs": [
    {
     "data": {
      "text/html": [
       "<div>\n",
       "<style scoped>\n",
       "    .dataframe tbody tr th:only-of-type {\n",
       "        vertical-align: middle;\n",
       "    }\n",
       "\n",
       "    .dataframe tbody tr th {\n",
       "        vertical-align: top;\n",
       "    }\n",
       "\n",
       "    .dataframe thead th {\n",
       "        text-align: right;\n",
       "    }\n",
       "</style>\n",
       "<table border=\"1\" class=\"dataframe\">\n",
       "  <thead>\n",
       "    <tr style=\"text-align: right;\">\n",
       "      <th></th>\n",
       "      <th>Rango</th>\n",
       "      <th>Compañia</th>\n",
       "      <th>Pais</th>\n",
       "      <th>Ventas</th>\n",
       "      <th>Ganancias</th>\n",
       "      <th>Activos</th>\n",
       "      <th>Valor de Mercado</th>\n",
       "    </tr>\n",
       "  </thead>\n",
       "  <tbody>\n",
       "    <tr>\n",
       "      <th>1097</th>\n",
       "      <td>1098</td>\n",
       "      <td>Eurobank Ergasias</td>\n",
       "      <td>Greece</td>\n",
       "      <td>4110.0</td>\n",
       "      <td>1400.0</td>\n",
       "      <td>86940.0</td>\n",
       "      <td>5470.0</td>\n",
       "    </tr>\n",
       "    <tr>\n",
       "      <th>1153</th>\n",
       "      <td>1154</td>\n",
       "      <td>National Bank of Greece</td>\n",
       "      <td>Greece</td>\n",
       "      <td>2800.0</td>\n",
       "      <td>1180.0</td>\n",
       "      <td>83370.0</td>\n",
       "      <td>5000.0</td>\n",
       "    </tr>\n",
       "    <tr>\n",
       "      <th>1198</th>\n",
       "      <td>1199</td>\n",
       "      <td>Piraeus Financial Holdings</td>\n",
       "      <td>Greece</td>\n",
       "      <td>2680.0</td>\n",
       "      <td>9984.0</td>\n",
       "      <td>80750.0</td>\n",
       "      <td>3220.0</td>\n",
       "    </tr>\n",
       "    <tr>\n",
       "      <th>1288</th>\n",
       "      <td>1289</td>\n",
       "      <td>Motor Oil</td>\n",
       "      <td>Greece</td>\n",
       "      <td>17480.0</td>\n",
       "      <td>1020.0</td>\n",
       "      <td>7680.0</td>\n",
       "      <td>2530.0</td>\n",
       "    </tr>\n",
       "    <tr>\n",
       "      <th>1379</th>\n",
       "      <td>1379</td>\n",
       "      <td>Hellenic Petroleum</td>\n",
       "      <td>Greece</td>\n",
       "      <td>15250.0</td>\n",
       "      <td>9348.0</td>\n",
       "      <td>9140.0</td>\n",
       "      <td>2430.0</td>\n",
       "    </tr>\n",
       "    <tr>\n",
       "      <th>1423</th>\n",
       "      <td>1424</td>\n",
       "      <td>Bank of Greece</td>\n",
       "      <td>Greece</td>\n",
       "      <td>2150.0</td>\n",
       "      <td>480.0</td>\n",
       "      <td>254500.0</td>\n",
       "      <td>348.0</td>\n",
       "    </tr>\n",
       "    <tr>\n",
       "      <th>1661</th>\n",
       "      <td>1662</td>\n",
       "      <td>Alpha Bank</td>\n",
       "      <td>Greece</td>\n",
       "      <td>2740.0</td>\n",
       "      <td>418.0</td>\n",
       "      <td>83270.0</td>\n",
       "      <td>3010.0</td>\n",
       "    </tr>\n",
       "    <tr>\n",
       "      <th>1910</th>\n",
       "      <td>1909</td>\n",
       "      <td>Public Power</td>\n",
       "      <td>Greece</td>\n",
       "      <td>11430.0</td>\n",
       "      <td>-170.0</td>\n",
       "      <td>18400.0</td>\n",
       "      <td>3310.0</td>\n",
       "    </tr>\n",
       "  </tbody>\n",
       "</table>\n",
       "</div>"
      ],
      "text/plain": [
       "      Rango                    Compañia    Pais   Ventas Ganancias   Activos  \\\n",
       "1097   1098           Eurobank Ergasias  Greece   4110.0    1400.0   86940.0   \n",
       "1153   1154     National Bank of Greece  Greece   2800.0    1180.0   83370.0   \n",
       "1198   1199  Piraeus Financial Holdings  Greece   2680.0    9984.0   80750.0   \n",
       "1288   1289                   Motor Oil  Greece  17480.0    1020.0    7680.0   \n",
       "1379   1379          Hellenic Petroleum  Greece  15250.0    9348.0    9140.0   \n",
       "1423   1424              Bank of Greece  Greece   2150.0     480.0  254500.0   \n",
       "1661   1662                  Alpha Bank  Greece   2740.0     418.0   83270.0   \n",
       "1910   1909                Public Power  Greece  11430.0    -170.0   18400.0   \n",
       "\n",
       "      Valor de Mercado  \n",
       "1097            5470.0  \n",
       "1153            5000.0  \n",
       "1198            3220.0  \n",
       "1288            2530.0  \n",
       "1379            2430.0  \n",
       "1423             348.0  \n",
       "1661            3010.0  \n",
       "1910            3310.0  "
      ]
     },
     "execution_count": 98,
     "metadata": {},
     "output_type": "execute_result"
    }
   ],
   "source": [
    "forbes23[\"Activos\"].fillna(forbes23.groupby('Pais')[\"Activos\"].transform(lambda x : x.mean()), inplace=True)\n",
    "forbes23[forbes23['Pais'] == 'Greece']"
   ]
  },
  {
   "cell_type": "code",
   "execution_count": 99,
   "metadata": {},
   "outputs": [
    {
     "data": {
      "text/plain": [
       "Rango               0\n",
       "Compañia            0\n",
       "Pais                0\n",
       "Ventas              0\n",
       "Ganancias           0\n",
       "Activos             0\n",
       "Valor de Mercado    0\n",
       "dtype: int64"
      ]
     },
     "execution_count": 99,
     "metadata": {},
     "output_type": "execute_result"
    }
   ],
   "source": [
    "forbes23.isna().sum()"
   ]
  },
  {
   "attachments": {},
   "cell_type": "markdown",
   "metadata": {},
   "source": [
    "### Análisis exploratorio de datos [EDA]\n",
    "\n",
    "De explorar y de resumir los datos para poder sacar información relevante y consistente.\n",
    "1. Métodos tabulares\n",
    "2. Métodos numéricos\n",
    "3. Análisis gráfico"
   ]
  },
  {
   "cell_type": "code",
   "execution_count": 100,
   "metadata": {},
   "outputs": [
    {
     "data": {
      "text/plain": [
       "0                              JPMorgan Chase\n",
       "1    Saudi Arabian Oil Company (Saudi Aramco)\n",
       "2                                        ICBC\n",
       "3                     China Construction Bank\n",
       "4                  Agricultural Bank of China\n",
       "Name: Compañia, dtype: object"
      ]
     },
     "execution_count": 100,
     "metadata": {},
     "output_type": "execute_result"
    }
   ],
   "source": [
    "# Cuáles empresas son el top 5 del ranking de forbes 2000 2021\n",
    "\n",
    "forbes23.head(n=5)['Compañia']"
   ]
  },
  {
   "cell_type": "code",
   "execution_count": 101,
   "metadata": {},
   "outputs": [
    {
     "name": "stdout",
     "output_type": "stream",
     "text": [
      "[1220.0 2575.5 5872.75]\n",
      "0.25     1220.0\n",
      "0.50     2575.5\n",
      "0.75    5872.75\n",
      "Name: Ganancias, dtype: object\n"
     ]
    }
   ],
   "source": [
    "#Percentiles\n",
    "\n",
    "print(np.percentile(forbes23['Ganancias'],[25,50,75]))\n",
    "\n",
    "print(forbes23['Ganancias'].quantile([0.25,0.5,0.75]))"
   ]
  },
  {
   "cell_type": "code",
   "execution_count": 102,
   "metadata": {},
   "outputs": [
    {
     "name": "stdout",
     "output_type": "stream",
     "text": [
      "24840.59999999999\n"
     ]
    }
   ],
   "source": [
    "# Valorar el 1% de las empresas con mas ganancias en el mundo\n",
    "\n",
    "p99p = np.percentile(forbes23['Ganancias'],99)\n",
    "print(p99p)\n"
   ]
  },
  {
   "cell_type": "code",
   "execution_count": 103,
   "metadata": {},
   "outputs": [
    {
     "data": {
      "text/html": [
       "<div>\n",
       "<style scoped>\n",
       "    .dataframe tbody tr th:only-of-type {\n",
       "        vertical-align: middle;\n",
       "    }\n",
       "\n",
       "    .dataframe tbody tr th {\n",
       "        vertical-align: top;\n",
       "    }\n",
       "\n",
       "    .dataframe thead th {\n",
       "        text-align: right;\n",
       "    }\n",
       "</style>\n",
       "<table border=\"1\" class=\"dataframe\">\n",
       "  <thead>\n",
       "    <tr style=\"text-align: right;\">\n",
       "      <th></th>\n",
       "      <th>Compañia</th>\n",
       "      <th>Pais</th>\n",
       "      <th>Ganancias</th>\n",
       "    </tr>\n",
       "  </thead>\n",
       "  <tbody>\n",
       "    <tr>\n",
       "      <th>0</th>\n",
       "      <td>JPMorgan Chase</td>\n",
       "      <td>United States</td>\n",
       "      <td>41800.0</td>\n",
       "    </tr>\n",
       "    <tr>\n",
       "      <th>1</th>\n",
       "      <td>Saudi Arabian Oil Company (Saudi Aramco)</td>\n",
       "      <td>Saudi Arabia</td>\n",
       "      <td>156360.0</td>\n",
       "    </tr>\n",
       "    <tr>\n",
       "      <th>2</th>\n",
       "      <td>ICBC</td>\n",
       "      <td>China</td>\n",
       "      <td>52470.0</td>\n",
       "    </tr>\n",
       "    <tr>\n",
       "      <th>3</th>\n",
       "      <td>China Construction Bank</td>\n",
       "      <td>China</td>\n",
       "      <td>48250.0</td>\n",
       "    </tr>\n",
       "    <tr>\n",
       "      <th>4</th>\n",
       "      <td>Agricultural Bank of China</td>\n",
       "      <td>China</td>\n",
       "      <td>37920.0</td>\n",
       "    </tr>\n",
       "    <tr>\n",
       "      <th>5</th>\n",
       "      <td>Bank of America</td>\n",
       "      <td>United States</td>\n",
       "      <td>28620.0</td>\n",
       "    </tr>\n",
       "    <tr>\n",
       "      <th>6</th>\n",
       "      <td>Alphabet</td>\n",
       "      <td>United States</td>\n",
       "      <td>58590.0</td>\n",
       "    </tr>\n",
       "    <tr>\n",
       "      <th>7</th>\n",
       "      <td>ExxonMobil</td>\n",
       "      <td>United States</td>\n",
       "      <td>61690.0</td>\n",
       "    </tr>\n",
       "    <tr>\n",
       "      <th>8</th>\n",
       "      <td>Microsoft</td>\n",
       "      <td>United States</td>\n",
       "      <td>69020.0</td>\n",
       "    </tr>\n",
       "    <tr>\n",
       "      <th>9</th>\n",
       "      <td>Apple</td>\n",
       "      <td>United States</td>\n",
       "      <td>94320.0</td>\n",
       "    </tr>\n",
       "    <tr>\n",
       "      <th>10</th>\n",
       "      <td>Shell</td>\n",
       "      <td>United Kingdom</td>\n",
       "      <td>43510.0</td>\n",
       "    </tr>\n",
       "    <tr>\n",
       "      <th>11</th>\n",
       "      <td>Bank of China</td>\n",
       "      <td>China</td>\n",
       "      <td>33230.0</td>\n",
       "    </tr>\n",
       "    <tr>\n",
       "      <th>13</th>\n",
       "      <td>Samsung Electronics</td>\n",
       "      <td>South Korea</td>\n",
       "      <td>34490.0</td>\n",
       "    </tr>\n",
       "    <tr>\n",
       "      <th>17</th>\n",
       "      <td>Chevron</td>\n",
       "      <td>United States</td>\n",
       "      <td>35780.0</td>\n",
       "    </tr>\n",
       "    <tr>\n",
       "      <th>27</th>\n",
       "      <td>BP</td>\n",
       "      <td>United Kingdom</td>\n",
       "      <td>25890.0</td>\n",
       "    </tr>\n",
       "    <tr>\n",
       "      <th>34</th>\n",
       "      <td>Tencent Holdings</td>\n",
       "      <td>China</td>\n",
       "      <td>27260.0</td>\n",
       "    </tr>\n",
       "    <tr>\n",
       "      <th>38</th>\n",
       "      <td>Pfizer</td>\n",
       "      <td>United States</td>\n",
       "      <td>29040.0</td>\n",
       "    </tr>\n",
       "    <tr>\n",
       "      <th>43</th>\n",
       "      <td>Taiwan Semiconductor</td>\n",
       "      <td>Taiwan</td>\n",
       "      <td>33570.0</td>\n",
       "    </tr>\n",
       "    <tr>\n",
       "      <th>51</th>\n",
       "      <td>Equinor</td>\n",
       "      <td>Norway</td>\n",
       "      <td>28980.0</td>\n",
       "    </tr>\n",
       "    <tr>\n",
       "      <th>57</th>\n",
       "      <td>Petrobras</td>\n",
       "      <td>Brazil</td>\n",
       "      <td>36470.0</td>\n",
       "    </tr>\n",
       "  </tbody>\n",
       "</table>\n",
       "</div>"
      ],
      "text/plain": [
       "                                    Compañia            Pais Ganancias\n",
       "0                             JPMorgan Chase   United States   41800.0\n",
       "1   Saudi Arabian Oil Company (Saudi Aramco)    Saudi Arabia  156360.0\n",
       "2                                       ICBC           China   52470.0\n",
       "3                    China Construction Bank           China   48250.0\n",
       "4                 Agricultural Bank of China           China   37920.0\n",
       "5                            Bank of America   United States   28620.0\n",
       "6                                   Alphabet   United States   58590.0\n",
       "7                                 ExxonMobil   United States   61690.0\n",
       "8                                  Microsoft   United States   69020.0\n",
       "9                                      Apple   United States   94320.0\n",
       "10                                     Shell  United Kingdom   43510.0\n",
       "11                             Bank of China           China   33230.0\n",
       "13                       Samsung Electronics     South Korea   34490.0\n",
       "17                                   Chevron   United States   35780.0\n",
       "27                                        BP  United Kingdom   25890.0\n",
       "34                          Tencent Holdings           China   27260.0\n",
       "38                                    Pfizer   United States   29040.0\n",
       "43                      Taiwan Semiconductor          Taiwan   33570.0\n",
       "51                                   Equinor          Norway   28980.0\n",
       "57                                 Petrobras          Brazil   36470.0"
      ]
     },
     "execution_count": 103,
     "metadata": {},
     "output_type": "execute_result"
    }
   ],
   "source": [
    "# Filtrar de mi DF usando la condición de 'Profits' >  p99p\n",
    "\n",
    "forbes23[forbes23['Ganancias'] > p99p][['Compañia','Pais','Ganancias']]"
   ]
  },
  {
   "cell_type": "code",
   "execution_count": 104,
   "metadata": {},
   "outputs": [
    {
     "name": "stdout",
     "output_type": "stream",
     "text": [
      "364374.19999999995\n"
     ]
    }
   ],
   "source": [
    "# 1% de las empresas con mayor valor del mercado\n",
    "\n",
    "p99mv = forbes23['Valor de Mercado'].quantile(0.99)\n",
    "print(p99mv)"
   ]
  },
  {
   "cell_type": "code",
   "execution_count": 105,
   "metadata": {},
   "outputs": [
    {
     "data": {
      "text/html": [
       "<div>\n",
       "<style scoped>\n",
       "    .dataframe tbody tr th:only-of-type {\n",
       "        vertical-align: middle;\n",
       "    }\n",
       "\n",
       "    .dataframe tbody tr th {\n",
       "        vertical-align: top;\n",
       "    }\n",
       "\n",
       "    .dataframe thead th {\n",
       "        text-align: right;\n",
       "    }\n",
       "</style>\n",
       "<table border=\"1\" class=\"dataframe\">\n",
       "  <thead>\n",
       "    <tr style=\"text-align: right;\">\n",
       "      <th></th>\n",
       "      <th>Compañia</th>\n",
       "      <th>Pais</th>\n",
       "      <th>Valor de Mercado</th>\n",
       "    </tr>\n",
       "  </thead>\n",
       "  <tbody>\n",
       "    <tr>\n",
       "      <th>0</th>\n",
       "      <td>JPMorgan Chase</td>\n",
       "      <td>United States</td>\n",
       "      <td>399590.0</td>\n",
       "    </tr>\n",
       "    <tr>\n",
       "      <th>1</th>\n",
       "      <td>Saudi Arabian Oil Company (Saudi Aramco)</td>\n",
       "      <td>Saudi Arabia</td>\n",
       "      <td>2055220.0</td>\n",
       "    </tr>\n",
       "    <tr>\n",
       "      <th>6</th>\n",
       "      <td>Alphabet</td>\n",
       "      <td>United States</td>\n",
       "      <td>1340530.0</td>\n",
       "    </tr>\n",
       "    <tr>\n",
       "      <th>7</th>\n",
       "      <td>ExxonMobil</td>\n",
       "      <td>United States</td>\n",
       "      <td>439390.0</td>\n",
       "    </tr>\n",
       "    <tr>\n",
       "      <th>8</th>\n",
       "      <td>Microsoft</td>\n",
       "      <td>United States</td>\n",
       "      <td>2309840.0</td>\n",
       "    </tr>\n",
       "    <tr>\n",
       "      <th>9</th>\n",
       "      <td>Apple</td>\n",
       "      <td>United States</td>\n",
       "      <td>2746210.0</td>\n",
       "    </tr>\n",
       "    <tr>\n",
       "      <th>14</th>\n",
       "      <td>UnitedHealth Group</td>\n",
       "      <td>United States</td>\n",
       "      <td>460190.0</td>\n",
       "    </tr>\n",
       "    <tr>\n",
       "      <th>22</th>\n",
       "      <td>Walmart</td>\n",
       "      <td>United States</td>\n",
       "      <td>409120.0</td>\n",
       "    </tr>\n",
       "    <tr>\n",
       "      <th>30</th>\n",
       "      <td>Meta Platforms</td>\n",
       "      <td>United States</td>\n",
       "      <td>599820.0</td>\n",
       "    </tr>\n",
       "    <tr>\n",
       "      <th>34</th>\n",
       "      <td>Tencent Holdings</td>\n",
       "      <td>China</td>\n",
       "      <td>415360.0</td>\n",
       "    </tr>\n",
       "    <tr>\n",
       "      <th>35</th>\n",
       "      <td>Amazon</td>\n",
       "      <td>United States</td>\n",
       "      <td>1084060.0</td>\n",
       "    </tr>\n",
       "    <tr>\n",
       "      <th>39</th>\n",
       "      <td>Johnson &amp; Johnson</td>\n",
       "      <td>United States</td>\n",
       "      <td>422760.0</td>\n",
       "    </tr>\n",
       "    <tr>\n",
       "      <th>43</th>\n",
       "      <td>Taiwan Semiconductor</td>\n",
       "      <td>Taiwan</td>\n",
       "      <td>423170.0</td>\n",
       "    </tr>\n",
       "    <tr>\n",
       "      <th>46</th>\n",
       "      <td>LVMH Mot Hennessy Louis Vuitton</td>\n",
       "      <td>France</td>\n",
       "      <td>482450.0</td>\n",
       "    </tr>\n",
       "    <tr>\n",
       "      <th>54</th>\n",
       "      <td>Procter &amp; Gamble</td>\n",
       "      <td>United States</td>\n",
       "      <td>367760.0</td>\n",
       "    </tr>\n",
       "    <tr>\n",
       "      <th>68</th>\n",
       "      <td>Tesla</td>\n",
       "      <td>United States</td>\n",
       "      <td>539000.0</td>\n",
       "    </tr>\n",
       "    <tr>\n",
       "      <th>121</th>\n",
       "      <td>Visa</td>\n",
       "      <td>United States</td>\n",
       "      <td>477380.0</td>\n",
       "    </tr>\n",
       "    <tr>\n",
       "      <th>200</th>\n",
       "      <td>Eli Lilly</td>\n",
       "      <td>United States</td>\n",
       "      <td>406110.0</td>\n",
       "    </tr>\n",
       "    <tr>\n",
       "      <th>240</th>\n",
       "      <td>NVIDIA</td>\n",
       "      <td>United States</td>\n",
       "      <td>708400.0</td>\n",
       "    </tr>\n",
       "    <tr>\n",
       "      <th>337</th>\n",
       "      <td>Berkshire Hathaway</td>\n",
       "      <td>United States</td>\n",
       "      <td>707210.0</td>\n",
       "    </tr>\n",
       "  </tbody>\n",
       "</table>\n",
       "</div>"
      ],
      "text/plain": [
       "                                     Compañia           Pais  Valor de Mercado\n",
       "0                              JPMorgan Chase  United States          399590.0\n",
       "1    Saudi Arabian Oil Company (Saudi Aramco)   Saudi Arabia         2055220.0\n",
       "6                                    Alphabet  United States         1340530.0\n",
       "7                                  ExxonMobil  United States          439390.0\n",
       "8                                   Microsoft  United States         2309840.0\n",
       "9                                       Apple  United States         2746210.0\n",
       "14                         UnitedHealth Group  United States          460190.0\n",
       "22                                    Walmart  United States          409120.0\n",
       "30                             Meta Platforms  United States          599820.0\n",
       "34                           Tencent Holdings          China          415360.0\n",
       "35                                     Amazon  United States         1084060.0\n",
       "39                          Johnson & Johnson  United States          422760.0\n",
       "43                       Taiwan Semiconductor         Taiwan          423170.0\n",
       "46           LVMH Mot Hennessy Louis Vuitton         France          482450.0\n",
       "54                           Procter & Gamble  United States          367760.0\n",
       "68                                      Tesla  United States          539000.0\n",
       "121                                      Visa  United States          477380.0\n",
       "200                                 Eli Lilly  United States          406110.0\n",
       "240                                    NVIDIA  United States          708400.0\n",
       "337                        Berkshire Hathaway  United States          707210.0"
      ]
     },
     "execution_count": 105,
     "metadata": {},
     "output_type": "execute_result"
    }
   ],
   "source": [
    "forbes23[forbes23['Valor de Mercado']>p99mv][['Compañia','Pais','Valor de Mercado']]"
   ]
  },
  {
   "cell_type": "code",
   "execution_count": 106,
   "metadata": {},
   "outputs": [
    {
     "data": {
      "text/html": [
       "<div>\n",
       "<style scoped>\n",
       "    .dataframe tbody tr th:only-of-type {\n",
       "        vertical-align: middle;\n",
       "    }\n",
       "\n",
       "    .dataframe tbody tr th {\n",
       "        vertical-align: top;\n",
       "    }\n",
       "\n",
       "    .dataframe thead th {\n",
       "        text-align: right;\n",
       "    }\n",
       "</style>\n",
       "<table border=\"1\" class=\"dataframe\">\n",
       "  <thead>\n",
       "    <tr style=\"text-align: right;\">\n",
       "      <th></th>\n",
       "      <th>Compañia</th>\n",
       "      <th>Pais</th>\n",
       "      <th>Valor de Mercado</th>\n",
       "      <th>Ganancias</th>\n",
       "    </tr>\n",
       "  </thead>\n",
       "  <tbody>\n",
       "    <tr>\n",
       "      <th>0</th>\n",
       "      <td>JPMorgan Chase</td>\n",
       "      <td>United States</td>\n",
       "      <td>399590.0</td>\n",
       "      <td>41800.0</td>\n",
       "    </tr>\n",
       "    <tr>\n",
       "      <th>1</th>\n",
       "      <td>Saudi Arabian Oil Company (Saudi Aramco)</td>\n",
       "      <td>Saudi Arabia</td>\n",
       "      <td>2055220.0</td>\n",
       "      <td>156360.0</td>\n",
       "    </tr>\n",
       "    <tr>\n",
       "      <th>6</th>\n",
       "      <td>Alphabet</td>\n",
       "      <td>United States</td>\n",
       "      <td>1340530.0</td>\n",
       "      <td>58590.0</td>\n",
       "    </tr>\n",
       "    <tr>\n",
       "      <th>7</th>\n",
       "      <td>ExxonMobil</td>\n",
       "      <td>United States</td>\n",
       "      <td>439390.0</td>\n",
       "      <td>61690.0</td>\n",
       "    </tr>\n",
       "    <tr>\n",
       "      <th>8</th>\n",
       "      <td>Microsoft</td>\n",
       "      <td>United States</td>\n",
       "      <td>2309840.0</td>\n",
       "      <td>69020.0</td>\n",
       "    </tr>\n",
       "    <tr>\n",
       "      <th>9</th>\n",
       "      <td>Apple</td>\n",
       "      <td>United States</td>\n",
       "      <td>2746210.0</td>\n",
       "      <td>94320.0</td>\n",
       "    </tr>\n",
       "    <tr>\n",
       "      <th>34</th>\n",
       "      <td>Tencent Holdings</td>\n",
       "      <td>China</td>\n",
       "      <td>415360.0</td>\n",
       "      <td>27260.0</td>\n",
       "    </tr>\n",
       "    <tr>\n",
       "      <th>43</th>\n",
       "      <td>Taiwan Semiconductor</td>\n",
       "      <td>Taiwan</td>\n",
       "      <td>423170.0</td>\n",
       "      <td>33570.0</td>\n",
       "    </tr>\n",
       "  </tbody>\n",
       "</table>\n",
       "</div>"
      ],
      "text/plain": [
       "                                    Compañia           Pais  Valor de Mercado  \\\n",
       "0                             JPMorgan Chase  United States          399590.0   \n",
       "1   Saudi Arabian Oil Company (Saudi Aramco)   Saudi Arabia         2055220.0   \n",
       "6                                   Alphabet  United States         1340530.0   \n",
       "7                                 ExxonMobil  United States          439390.0   \n",
       "8                                  Microsoft  United States         2309840.0   \n",
       "9                                      Apple  United States         2746210.0   \n",
       "34                          Tencent Holdings          China          415360.0   \n",
       "43                      Taiwan Semiconductor         Taiwan          423170.0   \n",
       "\n",
       "   Ganancias  \n",
       "0    41800.0  \n",
       "1   156360.0  \n",
       "6    58590.0  \n",
       "7    61690.0  \n",
       "8    69020.0  \n",
       "9    94320.0  \n",
       "34   27260.0  \n",
       "43   33570.0  "
      ]
     },
     "execution_count": 106,
     "metadata": {},
     "output_type": "execute_result"
    }
   ],
   "source": [
    "# Del 1% mas alto en valor de mercado, cuáles están en el 1% con mas ganancias\n",
    "# Operadores lógicos: y &, o |\n",
    "\n",
    "forbes23[(forbes23['Valor de Mercado']>p99mv) & (forbes23['Ganancias']>p99p)][['Compañia','Pais','Valor de Mercado','Ganancias']]"
   ]
  },
  {
   "cell_type": "code",
   "execution_count": 107,
   "metadata": {},
   "outputs": [
    {
     "data": {
      "text/html": [
       "<div>\n",
       "<style scoped>\n",
       "    .dataframe tbody tr th:only-of-type {\n",
       "        vertical-align: middle;\n",
       "    }\n",
       "\n",
       "    .dataframe tbody tr th {\n",
       "        vertical-align: top;\n",
       "    }\n",
       "\n",
       "    .dataframe thead th {\n",
       "        text-align: right;\n",
       "    }\n",
       "</style>\n",
       "<table border=\"1\" class=\"dataframe\">\n",
       "  <thead>\n",
       "    <tr style=\"text-align: right;\">\n",
       "      <th></th>\n",
       "      <th>Rango</th>\n",
       "      <th>Compañia</th>\n",
       "      <th>Pais</th>\n",
       "      <th>Ventas</th>\n",
       "      <th>Ganancias</th>\n",
       "      <th>Activos</th>\n",
       "      <th>Valor de Mercado</th>\n",
       "    </tr>\n",
       "  </thead>\n",
       "  <tbody>\n",
       "    <tr>\n",
       "      <th>310</th>\n",
       "      <td>311</td>\n",
       "      <td>Ecopetrol</td>\n",
       "      <td>Colombia</td>\n",
       "      <td>33670.0</td>\n",
       "      <td>7850.0</td>\n",
       "      <td>62450.0</td>\n",
       "      <td>18760.0</td>\n",
       "    </tr>\n",
       "    <tr>\n",
       "      <th>896</th>\n",
       "      <td>897</td>\n",
       "      <td>Bancolombia</td>\n",
       "      <td>Colombia</td>\n",
       "      <td>7850.0</td>\n",
       "      <td>1590.0</td>\n",
       "      <td>72760.0</td>\n",
       "      <td>7380.0</td>\n",
       "    </tr>\n",
       "    <tr>\n",
       "      <th>1404</th>\n",
       "      <td>1405</td>\n",
       "      <td>Grupo Aval</td>\n",
       "      <td>Colombia</td>\n",
       "      <td>6580.0</td>\n",
       "      <td>5828.0</td>\n",
       "      <td>60960.0</td>\n",
       "      <td>2920.0</td>\n",
       "    </tr>\n",
       "    <tr>\n",
       "      <th>1977</th>\n",
       "      <td>1977</td>\n",
       "      <td>Grupo Bolivar</td>\n",
       "      <td>Colombia</td>\n",
       "      <td>5880.0</td>\n",
       "      <td>2492.0</td>\n",
       "      <td>41940.0</td>\n",
       "      <td>1110.0</td>\n",
       "    </tr>\n",
       "  </tbody>\n",
       "</table>\n",
       "</div>"
      ],
      "text/plain": [
       "      Rango       Compañia      Pais   Ventas Ganancias  Activos  \\\n",
       "310     311      Ecopetrol  Colombia  33670.0    7850.0  62450.0   \n",
       "896     897    Bancolombia  Colombia   7850.0    1590.0  72760.0   \n",
       "1404   1405     Grupo Aval  Colombia   6580.0    5828.0  60960.0   \n",
       "1977   1977  Grupo Bolivar  Colombia   5880.0    2492.0  41940.0   \n",
       "\n",
       "      Valor de Mercado  \n",
       "310            18760.0  \n",
       "896             7380.0  \n",
       "1404            2920.0  \n",
       "1977            1110.0  "
      ]
     },
     "execution_count": 107,
     "metadata": {},
     "output_type": "execute_result"
    }
   ],
   "source": [
    "forbes23[(forbes23['Pais']== 'Colombia') & (forbes23['Ganancias']> 500)]"
   ]
  },
  {
   "cell_type": "code",
   "execution_count": 108,
   "metadata": {},
   "outputs": [
    {
     "data": {
      "text/html": [
       "<div>\n",
       "<style scoped>\n",
       "    .dataframe tbody tr th:only-of-type {\n",
       "        vertical-align: middle;\n",
       "    }\n",
       "\n",
       "    .dataframe tbody tr th {\n",
       "        vertical-align: top;\n",
       "    }\n",
       "\n",
       "    .dataframe thead th {\n",
       "        text-align: right;\n",
       "    }\n",
       "</style>\n",
       "<table border=\"1\" class=\"dataframe\">\n",
       "  <thead>\n",
       "    <tr style=\"text-align: right;\">\n",
       "      <th></th>\n",
       "      <th>Rango</th>\n",
       "      <th>Compañia</th>\n",
       "      <th>Pais</th>\n",
       "      <th>Ventas</th>\n",
       "      <th>Ganancias</th>\n",
       "      <th>Activos</th>\n",
       "      <th>Valor de Mercado</th>\n",
       "    </tr>\n",
       "  </thead>\n",
       "  <tbody>\n",
       "    <tr>\n",
       "      <th>749</th>\n",
       "      <td>750</td>\n",
       "      <td>YPF</td>\n",
       "      <td>Argentina</td>\n",
       "      <td>18630.0</td>\n",
       "      <td>2210.0</td>\n",
       "      <td>25910.0</td>\n",
       "      <td>9050.0</td>\n",
       "    </tr>\n",
       "  </tbody>\n",
       "</table>\n",
       "</div>"
      ],
      "text/plain": [
       "     Rango Compañia       Pais   Ventas Ganancias  Activos  Valor de Mercado\n",
       "749    750      YPF  Argentina  18630.0    2210.0  25910.0            9050.0"
      ]
     },
     "execution_count": 108,
     "metadata": {},
     "output_type": "execute_result"
    }
   ],
   "source": [
    "forbes23[(forbes23['Pais']== 'Argentina')]"
   ]
  },
  {
   "cell_type": "code",
   "execution_count": 109,
   "metadata": {},
   "outputs": [
    {
     "data": {
      "text/plain": [
       "Pais\n",
       "United States     30.50\n",
       "China             15.10\n",
       "Japan              9.60\n",
       "United Kingdom     3.35\n",
       "South Korea        2.95\n",
       "Canada             2.85\n",
       "India              2.75\n",
       "Germany            2.65\n",
       "France             2.60\n",
       "Taiwan             2.25\n",
       "Name: count, dtype: float64"
      ]
     },
     "execution_count": 109,
     "metadata": {},
     "output_type": "execute_result"
    }
   ],
   "source": [
    "# Tablas de frecuencia\n",
    "\n",
    "table_country = 100*forbes23['Pais'].value_counts()/forbes23['Pais'].count()\n",
    "table_country.head(10)"
   ]
  },
  {
   "cell_type": "code",
   "execution_count": 110,
   "metadata": {},
   "outputs": [
    {
     "name": "stdout",
     "output_type": "stream",
     "text": [
      "0    0\n",
      "1    1\n",
      "2    2\n",
      "3    3\n",
      "4    4\n",
      "5    5\n",
      "6    6\n",
      "7    7\n",
      "8    8\n",
      "9    9\n",
      "dtype: int64\n",
      "[5, 6, 12]\n"
     ]
    }
   ],
   "source": [
    "ejemplo = list(range(10))\n",
    "ejemplo = pd.Series(ejemplo)\n",
    "comparar = [5,6,12]\n",
    "print(ejemplo)\n",
    "print(comparar)\n"
   ]
  },
  {
   "cell_type": "code",
   "execution_count": 111,
   "metadata": {},
   "outputs": [
    {
     "data": {
      "text/plain": [
       "0    False\n",
       "1    False\n",
       "2    False\n",
       "3    False\n",
       "4    False\n",
       "5     True\n",
       "6     True\n",
       "7    False\n",
       "8    False\n",
       "9    False\n",
       "dtype: bool"
      ]
     },
     "execution_count": 111,
     "metadata": {},
     "output_type": "execute_result"
    }
   ],
   "source": [
    "#Comparadores lógicos: ==, !=, >, <, isin\n",
    "#Operadores lógicos: & |\n",
    "\n",
    "ejemplo.isin(comparar) "
   ]
  },
  {
   "cell_type": "code",
   "execution_count": 112,
   "metadata": {},
   "outputs": [],
   "source": [
    "suda = ['Argentina','Bolivia','Brazil','Chile','Colombia','Ecuador','Paraguay','Peru','Uruguay','Venezuela']"
   ]
  },
  {
   "cell_type": "code",
   "execution_count": 113,
   "metadata": {},
   "outputs": [],
   "source": [
    "f_suda = forbes23[forbes23['Pais'].isin(suda)]"
   ]
  },
  {
   "cell_type": "code",
   "execution_count": 114,
   "metadata": {},
   "outputs": [],
   "source": [
    "EUROPE = ['Albania', 'Germany', 'Andorra', 'Armenia', 'Austria', 'Azerbaijan', 'Belgium', 'Belarus', 'Bosnia and Herzegovina', 'Bulgaria', 'Cyprus', 'Croatia', 'Denmark', 'Slovakia', 'Slovenia', 'Spain', 'Estonia', 'Finland', 'France', 'Georgia', 'Greece', 'Hungary', 'Ireland', 'Iceland', 'Italy', 'Kazakhstan', 'Kosovo', 'Latvia', 'Liechtenstein', 'Lithuania', 'Luxembourg', 'North Macedonia', 'Malta', 'Moldova', 'Monaco', 'Montenegro', 'Norway', 'Netherlands', 'Poland', 'Portugal', 'United Kingdom', 'Czech Republic', 'Romania', 'Russia', 'San Marino', 'Serbia', 'Sweden', 'Switzerland', 'Ukraine', 'Vatican City']"
   ]
  },
  {
   "cell_type": "code",
   "execution_count": 115,
   "metadata": {},
   "outputs": [],
   "source": [
    "f_europe = forbes23[forbes23['Pais'].isin(EUROPE)]"
   ]
  },
  {
   "cell_type": "code",
   "execution_count": 116,
   "metadata": {},
   "outputs": [
    {
     "data": {
      "text/plain": [
       "Pais\n",
       "United Kingdom    67\n",
       "Germany           53\n",
       "France            52\n",
       "Switzerland       44\n",
       "Italy             28\n",
       "Netherlands       25\n",
       "Sweden            24\n",
       "Ireland           22\n",
       "Spain             20\n",
       "Finland           10\n",
       "Denmark           10\n",
       "Norway             9\n",
       "Austria            9\n",
       "Greece             8\n",
       "Poland             7\n",
       "Luxembourg         6\n",
       "Belgium            6\n",
       "Portugal           4\n",
       "Hungary            2\n",
       "Kazakhstan         2\n",
       "Czech Republic     1\n",
       "Name: count, dtype: int64"
      ]
     },
     "execution_count": 116,
     "metadata": {},
     "output_type": "execute_result"
    }
   ],
   "source": [
    "f_europe['Pais'].value_counts()"
   ]
  },
  {
   "cell_type": "code",
   "execution_count": 117,
   "metadata": {},
   "outputs": [
    {
     "data": {
      "text/plain": [
       "Pais\n",
       "Brazil       22\n",
       "Chile         8\n",
       "Colombia      4\n",
       "Argentina     1\n",
       "Peru          1\n",
       "Uruguay       1\n",
       "Name: count, dtype: int64"
      ]
     },
     "execution_count": 117,
     "metadata": {},
     "output_type": "execute_result"
    }
   ],
   "source": [
    "f_suda['Pais'].value_counts()"
   ]
  },
  {
   "cell_type": "code",
   "execution_count": 118,
   "metadata": {},
   "outputs": [
    {
     "name": "stdout",
     "output_type": "stream",
     "text": [
      "Media de ventas: 25422.461\n",
      "Media de ventas en empresas sudamericanas: 22771.891891891893\n",
      "Media de ventas en empresas europa: 26257.750611246945\n"
     ]
    }
   ],
   "source": [
    "# Métodos numéricos\n",
    "\n",
    "# Medidas de centralidad: media\n",
    "\n",
    "print('Media de ventas:', np.mean(forbes23['Ventas']))\n",
    "print('Media de ventas en empresas sudamericanas:',np.mean(f_suda['Ventas']))\n",
    "print('Media de ventas en empresas europa:',np.mean(f_europe['Ventas']))"
   ]
  },
  {
   "cell_type": "code",
   "execution_count": 119,
   "metadata": {},
   "outputs": [
    {
     "name": "stdout",
     "output_type": "stream",
     "text": [
      "Mediana de ventas: 12500.0\n",
      "Mediana de ventas en empresas sudamericanas: 14590.0\n",
      "Mediana de ventas en empresas europa: 15220.0\n"
     ]
    }
   ],
   "source": [
    "# Medidas de centralidad: mediana\n",
    "\n",
    "print('Mediana de ventas:', np.median(forbes23['Ventas']))\n",
    "print('Mediana de ventas en empresas sudamericanas:',np.median(f_suda['Ventas']))\n",
    "print('Mediana de ventas en empresas europa:',np.median(f_europe['Ventas']))"
   ]
  },
  {
   "cell_type": "code",
   "execution_count": 120,
   "metadata": {},
   "outputs": [
    {
     "data": {
      "text/plain": [
       "Ventas               25422.4610\n",
       "Ganancias             3833.1340\n",
       "Activos             115846.3475\n",
       "Valor de Mercado     36995.6195\n",
       "dtype: float64"
      ]
     },
     "execution_count": 120,
     "metadata": {},
     "output_type": "execute_result"
    }
   ],
   "source": [
    "forbes23.iloc[:,3:].apply(func=np.mean,axis = 0) #0 para columnas, 1 para filas"
   ]
  },
  {
   "cell_type": "code",
   "execution_count": 121,
   "metadata": {},
   "outputs": [
    {
     "data": {
      "text/plain": [
       "Ventas              12500.0\n",
       "Ganancias            2575.5\n",
       "Activos             31655.0\n",
       "Valor de Mercado    15310.0\n",
       "dtype: float64"
      ]
     },
     "execution_count": 121,
     "metadata": {},
     "output_type": "execute_result"
    }
   ],
   "source": [
    "forbes23.iloc[:,3:].apply(func=np.median,axis = 0)"
   ]
  },
  {
   "cell_type": "code",
   "execution_count": 122,
   "metadata": {},
   "outputs": [
    {
     "data": {
      "text/plain": [
       "Ventas               46505.542212\n",
       "Ganancias             6917.371015\n",
       "Activos             372149.158109\n",
       "Valor de Mercado    114202.065015\n",
       "dtype: float64"
      ]
     },
     "execution_count": 122,
     "metadata": {},
     "output_type": "execute_result"
    }
   ],
   "source": [
    "forbes23.iloc[:,3:].apply(func=np.std,axis = 0)"
   ]
  },
  {
   "cell_type": "code",
   "execution_count": 123,
   "metadata": {},
   "outputs": [],
   "source": [
    "def cv(data):\n",
    "    media = np.mean(data)\n",
    "    sd = np.std(data)\n",
    "    coef = (sd/media)*100\n",
    "    return coef"
   ]
  },
  {
   "cell_type": "code",
   "execution_count": 124,
   "metadata": {},
   "outputs": [
    {
     "data": {
      "text/plain": [
       "182.93092164293955"
      ]
     },
     "execution_count": 124,
     "metadata": {},
     "output_type": "execute_result"
    }
   ],
   "source": [
    "cv(forbes23['Ventas'])"
   ]
  },
  {
   "cell_type": "code",
   "execution_count": 125,
   "metadata": {},
   "outputs": [
    {
     "data": {
      "text/plain": [
       "Ventas              182.930922\n",
       "Ganancias           180.462541\n",
       "Activos             321.243756\n",
       "Valor de Mercado    308.690776\n",
       "dtype: float64"
      ]
     },
     "execution_count": 125,
     "metadata": {},
     "output_type": "execute_result"
    }
   ],
   "source": [
    "forbes23.iloc[:,3:].apply(func=cv,axis = 0)"
   ]
  },
  {
   "cell_type": "code",
   "execution_count": 126,
   "metadata": {},
   "outputs": [
    {
     "data": {
      "text/plain": [
       "21.0"
      ]
     },
     "execution_count": 126,
     "metadata": {},
     "output_type": "execute_result"
    }
   ],
   "source": [
    "# outliears: datos atípicos\n",
    "\n",
    "age = [20,22,19,21,69]\n",
    "np.mean(age)\n",
    "np.median(age)"
   ]
  },
  {
   "cell_type": "code",
   "execution_count": 127,
   "metadata": {},
   "outputs": [],
   "source": [
    "import numpy as np\n",
    "import pandas as pd\n",
    "import matplotlib.pyplot as plt\n",
    "import seaborn as sns\n",
    "from scipy.spatial import distance"
   ]
  },
  {
   "cell_type": "code",
   "execution_count": 128,
   "metadata": {},
   "outputs": [
    {
     "name": "stdout",
     "output_type": "stream",
     "text": [
      "[[92 57]\n",
      " [95 32]\n",
      " [37 57]\n",
      " [63 60]\n",
      " [33 17]\n",
      " [26  3]\n",
      " [51 69]\n",
      " [ 8 53]\n",
      " [ 7  6]\n",
      " [26 23]\n",
      " [30 10]\n",
      " [ 3 98]\n",
      " [44 88]\n",
      " [48 77]\n",
      " [65 65]\n",
      " [76 80]\n",
      " [41 24]\n",
      " [35 42]\n",
      " [ 7 92]\n",
      " [ 7  7]]\n"
     ]
    }
   ],
   "source": [
    "df = np.random.randint(1, 101, size=(20, 2))\n",
    "print(df)"
   ]
  },
  {
   "cell_type": "code",
   "execution_count": 129,
   "metadata": {},
   "outputs": [
    {
     "data": {
      "text/plain": [
       "<matplotlib.collections.PathCollection at 0x1ae2e2818b0>"
      ]
     },
     "execution_count": 129,
     "metadata": {},
     "output_type": "execute_result"
    },
    {
     "data": {
      "image/png": "[encoded data removed]",
      "text/plain": [
       "<Figure size 640x480 with 1 Axes>"
      ]
     },
     "metadata": {},
     "output_type": "display_data"
    }
   ],
   "source": [
    "sns.set()\n",
    "\n",
    "plt.axis('equal') #Misma escala de los ejes\n",
    "plt.scatter(df[:,0],df[:,1])"
   ]
  },
  {
   "cell_type": "code",
   "execution_count": 130,
   "metadata": {},
   "outputs": [
    {
     "data": {
      "image/png": "[encoded data removed]",
      "text/plain": [
       "<Figure size 640x480 with 1 Axes>"
      ]
     },
     "metadata": {},
     "output_type": "display_data"
    },
    {
     "name": "stdout",
     "output_type": "stream",
     "text": [
      "[57 77] [17 46]\n"
     ]
    }
   ],
   "source": [
    "ck = np.random.randint(np.min(df),np.max(df), size=(2, 2))\n",
    "\n",
    "plt.scatter(ck[:,0],ck[:,1],s=100,marker='*')\n",
    "plt.show()\n",
    "print(ck[0,:],ck[1,:])"
   ]
  },
  {
   "cell_type": "code",
   "execution_count": 131,
   "metadata": {},
   "outputs": [
    {
     "data": {
      "image/png": "[encoded data removed]",
      "text/plain": [
       "<Figure size 640x480 with 1 Axes>"
      ]
     },
     "metadata": {},
     "output_type": "display_data"
    },
    {
     "name": "stdout",
     "output_type": "stream",
     "text": [
      "[57 77] [17 46]\n"
     ]
    }
   ],
   "source": [
    "plt.axis('equal') #Misma escala de los ejes\n",
    "plt.scatter(df[:,0],df[:,1])\n",
    "\n",
    "plt.scatter(ck[:,0],ck[:,1],s=100,marker='*')\n",
    "plt.show()\n",
    "print(ck[0,:],ck[1,:])"
   ]
  },
  {
   "cell_type": "code",
   "execution_count": 132,
   "metadata": {},
   "outputs": [
    {
     "name": "stdout",
     "output_type": "stream",
     "text": [
      "[57 77] [17 46]\n",
      "iteration:  0\n"
     ]
    },
    {
     "data": {
      "image/png": "[encoded data removed]",
      "text/plain": [
       "<Figure size 640x480 with 1 Axes>"
      ]
     },
     "metadata": {},
     "output_type": "display_data"
    },
    {
     "name": "stdout",
     "output_type": "stream",
     "text": [
      "[66 66] [21 36]\n",
      "iteration:  1\n"
     ]
    },
    {
     "data": {
      "image/png": "[encoded data removed]",
      "text/plain": [
       "<Figure size 640x480 with 1 Axes>"
      ]
     },
     "metadata": {},
     "output_type": "display_data"
    },
    {
     "name": "stdout",
     "output_type": "stream",
     "text": [
      "[66 66] [21 36]\n",
      "iteration:  2\n"
     ]
    },
    {
     "data": {
      "image/png": "[encoded data removed]",
      "text/plain": [
       "<Figure size 640x480 with 1 Axes>"
      ]
     },
     "metadata": {},
     "output_type": "display_data"
    },
    {
     "name": "stdout",
     "output_type": "stream",
     "text": [
      "[66 66] [21 36]\n",
      "iteration:  3\n"
     ]
    },
    {
     "data": {
      "image/png": "[encoded data removed]",
      "text/plain": [
       "<Figure size 640x480 with 1 Axes>"
      ]
     },
     "metadata": {},
     "output_type": "display_data"
    },
    {
     "name": "stdout",
     "output_type": "stream",
     "text": [
      "[66 66] [21 36]\n",
      "iteration:  4\n"
     ]
    },
    {
     "data": {
      "image/png": "[encoded data removed]",
      "text/plain": [
       "<Figure size 640x480 with 1 Axes>"
      ]
     },
     "metadata": {},
     "output_type": "display_data"
    }
   ],
   "source": [
    "# Calculamos las distancias de cada dato al centroide y reasignamos a los conjuntos C1 y C2\n",
    "for iteration in range(5):\n",
    "  C1 = []\n",
    "  C2 = []\n",
    "  i=0\n",
    "  print(ck[0,:],ck[1,:])\n",
    "  for x in df:\n",
    "    dst1 = distance.euclidean(df[i,:], ck[0,:])\n",
    "    dst2 = distance.euclidean(df[i,:], ck[1,:])\n",
    "\n",
    "    if dst1 < dst2:\n",
    "      C1.append(df[i,:])\n",
    "    else: \n",
    "      C2.append(df[i,:])\n",
    "    i = i+1\n",
    "\n",
    "  print('iteration: ', iteration)\n",
    "\n",
    "  AC1=np.array(C1)\n",
    "  AC2=np.array(C2)\n",
    "\n",
    "  plt.axis('equal')\n",
    "  plt.scatter(ck[:,0],ck[:,1],s=100,marker='*')\n",
    "  plt.scatter(AC1[:,0],AC1[:,1], label='True Position')\n",
    "  plt.scatter(AC2[:,0],AC2[:,1], label='True Position')\n",
    "  plt.show()\n",
    "\n",
    "  # Actualizamos las coordenadas de los centroides\n",
    "  ck[0,0] = np.mean(AC1[:,0])\n",
    "  ck[0,1] = np.mean(AC1[:,1])\n",
    "\n",
    "  ck[1,0] = np.mean(AC2[:,0])\n",
    "  ck[1,1] = np.mean(AC2[:,1])\n"
   ]
  },
  {
   "cell_type": "code",
   "execution_count": 133,
   "metadata": {},
   "outputs": [
    {
     "name": "stdout",
     "output_type": "stream",
     "text": [
      "El dato Xn pertenece al cluster:2 con centroide [21 36]\n"
     ]
    },
    {
     "data": {
      "image/png": "[encoded data removed]",
      "text/plain": [
       "<Figure size 640x480 with 1 Axes>"
      ]
     },
     "metadata": {},
     "output_type": "display_data"
    }
   ],
   "source": [
    "# Dado un nuevo dato xn, se asigna al conjunto C1 o C2 teniendo en cuenta la distancia\n",
    "# del elemento a los centroides de cada grupo\n",
    "\n",
    "# xn, nuevo dato\n",
    "xn = (20,30)\n",
    "\n",
    "# Distancia de xn a cada centroide\n",
    "dst1 = distance.euclidean(xn, ck[0,:])\n",
    "dst2 = distance.euclidean(xn, ck[1,:])\n",
    "\n",
    "if dst1 < dst2:\n",
    "  print('El dato Xn pertenece al cluster:{} con centroide {}'.format(1,ck[0,:]))\n",
    "else:\n",
    "  print('El dato Xn pertenece al cluster:{} con centroide {}'.format(2,ck[1,:]))\n",
    "\n",
    "plt.axis('equal')\n",
    "plt.title('Predicción del modelo k-means')\n",
    "plt.scatter(xn[0],xn[1],s=100,marker='o')\n",
    "plt.scatter(ck[:,0],ck[:,1],s=100,marker='*')\n",
    "plt.scatter(AC1[:,0],AC1[:,1], label='True Position')\n",
    "plt.scatter(AC2[:,0],AC2[:,1], label='True Position')\n",
    "plt.show()"
   ]
  }
 ],
 "metadata": {
  "kernelspec": {
   "display_name": "Python 3",
   "language": "python",
   "name": "python3"
  },
  "language_info": {
   "codemirror_mode": {
    "name": "ipython",
    "version": 3
   },
   "file_extension": ".py",
   "mimetype": "text/x-python",
   "name": "python",
   "nbconvert_exporter": "python",
   "pygments_lexer": "ipython3",
   "version": "3.9.13"
  },
  "orig_nbformat": 4
 },
 "nbformat": 4,
 "nbformat_minor": 2
}
